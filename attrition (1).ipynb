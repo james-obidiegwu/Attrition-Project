{
 "cells": [
  {
   "cell_type": "markdown",
   "metadata": {},
   "source": [
    "# INTRODUCTION"
   ]
  },
  {
   "cell_type": "markdown",
   "metadata": {},
   "source": [
    "Attrition in human resources refers to the gradual loss of employees over time. In general, relatively high attrition is problematic for companies. HR professionals often assume a leadership role in designing company compensation programs, work culture and motivation systems that help the organization retain top employees.\n",
    "\n",
    "This project is to uncover the factors that lead to employee attrition through Exploratory Data Analysis, and explore them by using various classification models to predict if an employee is likely to quit. This could greatly increase the HR’s ability to intervene on time and remedy the situation to prevent attrition\n"
   ]
  },
  {
   "cell_type": "code",
   "execution_count": 320,
   "metadata": {},
   "outputs": [],
   "source": [
    "#import the libraries\n",
    "import pandas as pd\n",
    "import numpy as np\n",
    "import matplotlib.pyplot as plt\n",
    "import seaborn as sns"
   ]
  },
  {
   "cell_type": "code",
   "execution_count": 321,
   "metadata": {},
   "outputs": [],
   "source": [
    "#create a function to load the data\n",
    "def load_data(url):\n",
    "    attrition = pd.read_csv(url)\n",
    "    return attrition\n"
   ]
  },
  {
   "cell_type": "code",
   "execution_count": 322,
   "metadata": {},
   "outputs": [],
   "source": [
    "attrition = load_data('Employee_attrition.csv')"
   ]
  },
  {
   "cell_type": "code",
   "execution_count": 323,
   "metadata": {},
   "outputs": [
    {
     "data": {
      "text/html": [
       "<div>\n",
       "<style scoped>\n",
       "    .dataframe tbody tr th:only-of-type {\n",
       "        vertical-align: middle;\n",
       "    }\n",
       "\n",
       "    .dataframe tbody tr th {\n",
       "        vertical-align: top;\n",
       "    }\n",
       "\n",
       "    .dataframe thead th {\n",
       "        text-align: right;\n",
       "    }\n",
       "</style>\n",
       "<table border=\"1\" class=\"dataframe\">\n",
       "  <thead>\n",
       "    <tr style=\"text-align: right;\">\n",
       "      <th></th>\n",
       "      <th>Age</th>\n",
       "      <th>Resigned</th>\n",
       "      <th>BusinessTravel</th>\n",
       "      <th>DailyRate($)</th>\n",
       "      <th>Department</th>\n",
       "      <th>DistanceFromHome(km)</th>\n",
       "      <th>EducationField</th>\n",
       "      <th>EmployeeNumber</th>\n",
       "      <th>EnvironmentSatisfaction</th>\n",
       "      <th>Gender</th>\n",
       "      <th>...</th>\n",
       "      <th>RelationshipSatisfaction</th>\n",
       "      <th>StandardHours</th>\n",
       "      <th>StockOptionLevel</th>\n",
       "      <th>TotalWorkingYears</th>\n",
       "      <th>TrainingTimesLastYear</th>\n",
       "      <th>WorkLifeBalance</th>\n",
       "      <th>YearsAtCompany</th>\n",
       "      <th>YearsInCurrentRole</th>\n",
       "      <th>YearsSinceLastPromotion</th>\n",
       "      <th>YearsWithCurrManager</th>\n",
       "    </tr>\n",
       "  </thead>\n",
       "  <tbody>\n",
       "    <tr>\n",
       "      <th>0</th>\n",
       "      <td>41</td>\n",
       "      <td>Yes</td>\n",
       "      <td>Travel_Rarely</td>\n",
       "      <td>1102</td>\n",
       "      <td>Sales</td>\n",
       "      <td>1</td>\n",
       "      <td>Life Sciences</td>\n",
       "      <td>1</td>\n",
       "      <td>2</td>\n",
       "      <td>Female</td>\n",
       "      <td>...</td>\n",
       "      <td>1</td>\n",
       "      <td>80</td>\n",
       "      <td>0</td>\n",
       "      <td>8</td>\n",
       "      <td>0</td>\n",
       "      <td>1</td>\n",
       "      <td>6</td>\n",
       "      <td>4</td>\n",
       "      <td>0</td>\n",
       "      <td>5</td>\n",
       "    </tr>\n",
       "    <tr>\n",
       "      <th>1</th>\n",
       "      <td>49</td>\n",
       "      <td>No</td>\n",
       "      <td>Travel_Frequently</td>\n",
       "      <td>279</td>\n",
       "      <td>Research &amp; Development</td>\n",
       "      <td>8</td>\n",
       "      <td>Life Sciences</td>\n",
       "      <td>2</td>\n",
       "      <td>3</td>\n",
       "      <td>Male</td>\n",
       "      <td>...</td>\n",
       "      <td>4</td>\n",
       "      <td>80</td>\n",
       "      <td>1</td>\n",
       "      <td>10</td>\n",
       "      <td>3</td>\n",
       "      <td>3</td>\n",
       "      <td>10</td>\n",
       "      <td>7</td>\n",
       "      <td>1</td>\n",
       "      <td>7</td>\n",
       "    </tr>\n",
       "    <tr>\n",
       "      <th>2</th>\n",
       "      <td>37</td>\n",
       "      <td>Yes</td>\n",
       "      <td>Travel_Rarely</td>\n",
       "      <td>1373</td>\n",
       "      <td>Research &amp; Development</td>\n",
       "      <td>2</td>\n",
       "      <td>Other</td>\n",
       "      <td>4</td>\n",
       "      <td>4</td>\n",
       "      <td>Male</td>\n",
       "      <td>...</td>\n",
       "      <td>2</td>\n",
       "      <td>80</td>\n",
       "      <td>0</td>\n",
       "      <td>7</td>\n",
       "      <td>3</td>\n",
       "      <td>3</td>\n",
       "      <td>0</td>\n",
       "      <td>0</td>\n",
       "      <td>0</td>\n",
       "      <td>0</td>\n",
       "    </tr>\n",
       "    <tr>\n",
       "      <th>3</th>\n",
       "      <td>33</td>\n",
       "      <td>No</td>\n",
       "      <td>Travel_Frequently</td>\n",
       "      <td>1392</td>\n",
       "      <td>Research &amp; Development</td>\n",
       "      <td>3</td>\n",
       "      <td>Life Sciences</td>\n",
       "      <td>5</td>\n",
       "      <td>4</td>\n",
       "      <td>Female</td>\n",
       "      <td>...</td>\n",
       "      <td>3</td>\n",
       "      <td>80</td>\n",
       "      <td>0</td>\n",
       "      <td>8</td>\n",
       "      <td>3</td>\n",
       "      <td>3</td>\n",
       "      <td>8</td>\n",
       "      <td>7</td>\n",
       "      <td>3</td>\n",
       "      <td>0</td>\n",
       "    </tr>\n",
       "    <tr>\n",
       "      <th>4</th>\n",
       "      <td>27</td>\n",
       "      <td>No</td>\n",
       "      <td>Travel_Rarely</td>\n",
       "      <td>591</td>\n",
       "      <td>Research &amp; Development</td>\n",
       "      <td>2</td>\n",
       "      <td>Medical</td>\n",
       "      <td>7</td>\n",
       "      <td>1</td>\n",
       "      <td>Male</td>\n",
       "      <td>...</td>\n",
       "      <td>4</td>\n",
       "      <td>80</td>\n",
       "      <td>1</td>\n",
       "      <td>6</td>\n",
       "      <td>3</td>\n",
       "      <td>3</td>\n",
       "      <td>2</td>\n",
       "      <td>2</td>\n",
       "      <td>2</td>\n",
       "      <td>2</td>\n",
       "    </tr>\n",
       "  </tbody>\n",
       "</table>\n",
       "<p>5 rows × 33 columns</p>\n",
       "</div>"
      ],
      "text/plain": [
       "   Age Resigned     BusinessTravel  DailyRate($)              Department  \\\n",
       "0   41      Yes      Travel_Rarely          1102                   Sales   \n",
       "1   49       No  Travel_Frequently           279  Research & Development   \n",
       "2   37      Yes      Travel_Rarely          1373  Research & Development   \n",
       "3   33       No  Travel_Frequently          1392  Research & Development   \n",
       "4   27       No      Travel_Rarely           591  Research & Development   \n",
       "\n",
       "   DistanceFromHome(km) EducationField  EmployeeNumber  \\\n",
       "0                     1  Life Sciences               1   \n",
       "1                     8  Life Sciences               2   \n",
       "2                     2          Other               4   \n",
       "3                     3  Life Sciences               5   \n",
       "4                     2        Medical               7   \n",
       "\n",
       "   EnvironmentSatisfaction  Gender  ...  RelationshipSatisfaction  \\\n",
       "0                        2  Female  ...                         1   \n",
       "1                        3    Male  ...                         4   \n",
       "2                        4    Male  ...                         2   \n",
       "3                        4  Female  ...                         3   \n",
       "4                        1    Male  ...                         4   \n",
       "\n",
       "   StandardHours  StockOptionLevel TotalWorkingYears  TrainingTimesLastYear  \\\n",
       "0             80                 0                 8                      0   \n",
       "1             80                 1                10                      3   \n",
       "2             80                 0                 7                      3   \n",
       "3             80                 0                 8                      3   \n",
       "4             80                 1                 6                      3   \n",
       "\n",
       "  WorkLifeBalance  YearsAtCompany  YearsInCurrentRole  \\\n",
       "0               1               6                   4   \n",
       "1               3              10                   7   \n",
       "2               3               0                   0   \n",
       "3               3               8                   7   \n",
       "4               3               2                   2   \n",
       "\n",
       "   YearsSinceLastPromotion YearsWithCurrManager  \n",
       "0                        0                    5  \n",
       "1                        1                    7  \n",
       "2                        0                    0  \n",
       "3                        3                    0  \n",
       "4                        2                    2  \n",
       "\n",
       "[5 rows x 33 columns]"
      ]
     },
     "execution_count": 323,
     "metadata": {},
     "output_type": "execute_result"
    }
   ],
   "source": [
    "attrition.head(5)"
   ]
  },
  {
   "cell_type": "code",
   "execution_count": 324,
   "metadata": {},
   "outputs": [],
   "source": [
    "#create a function to do exploratory data analysis\n",
    "def EDA(df):\n",
    "    info = df.info()\n",
    "    shape = df.shape\n",
    "    columns = df.columns\n",
    "    missing = df.isna().sum()\n",
    "    return info,shape,columns,missing"
   ]
  },
  {
   "cell_type": "code",
   "execution_count": 325,
   "metadata": {},
   "outputs": [
    {
     "name": "stdout",
     "output_type": "stream",
     "text": [
      "<class 'pandas.core.frame.DataFrame'>\n",
      "RangeIndex: 1470 entries, 0 to 1469\n",
      "Data columns (total 33 columns):\n",
      " #   Column                    Non-Null Count  Dtype \n",
      "---  ------                    --------------  ----- \n",
      " 0   Age                       1470 non-null   int64 \n",
      " 1   Resigned                  1470 non-null   object\n",
      " 2   BusinessTravel            1470 non-null   object\n",
      " 3   DailyRate($)              1470 non-null   int64 \n",
      " 4   Department                1470 non-null   object\n",
      " 5   DistanceFromHome(km)      1470 non-null   int64 \n",
      " 6   EducationField            1470 non-null   object\n",
      " 7   EmployeeNumber            1470 non-null   int64 \n",
      " 8   EnvironmentSatisfaction   1470 non-null   int64 \n",
      " 9   Gender                    1470 non-null   object\n",
      " 10  HourlyRate                1470 non-null   int64 \n",
      " 11  JobInvolvement            1470 non-null   int64 \n",
      " 12  JobLevel                  1470 non-null   int64 \n",
      " 13  JobRole                   1470 non-null   object\n",
      " 14  JobSatisfaction           1470 non-null   int64 \n",
      " 15  MaritalStatus             1470 non-null   object\n",
      " 16  MonthlyIncome($)          1470 non-null   int64 \n",
      " 17  MonthlyRate($)            1470 non-null   int64 \n",
      " 18  NumCompaniesWorked        1470 non-null   int64 \n",
      " 19  Over18                    1470 non-null   object\n",
      " 20  OverTime                  1470 non-null   object\n",
      " 21  PercentSalaryHike         1470 non-null   int64 \n",
      " 22  PerformanceRating         1470 non-null   int64 \n",
      " 23  RelationshipSatisfaction  1470 non-null   int64 \n",
      " 24  StandardHours             1470 non-null   int64 \n",
      " 25  StockOptionLevel          1470 non-null   int64 \n",
      " 26  TotalWorkingYears         1470 non-null   int64 \n",
      " 27  TrainingTimesLastYear     1470 non-null   int64 \n",
      " 28  WorkLifeBalance           1470 non-null   int64 \n",
      " 29  YearsAtCompany            1470 non-null   int64 \n",
      " 30  YearsInCurrentRole        1470 non-null   int64 \n",
      " 31  YearsSinceLastPromotion   1470 non-null   int64 \n",
      " 32  YearsWithCurrManager      1470 non-null   int64 \n",
      "dtypes: int64(24), object(9)\n",
      "memory usage: 379.1+ KB\n"
     ]
    },
    {
     "data": {
      "text/plain": [
       "(None,\n",
       " (1470, 33),\n",
       " Index(['Age', 'Resigned', 'BusinessTravel', 'DailyRate($)', 'Department',\n",
       "        'DistanceFromHome(km)', 'EducationField', 'EmployeeNumber',\n",
       "        'EnvironmentSatisfaction', 'Gender', 'HourlyRate', 'JobInvolvement',\n",
       "        'JobLevel', 'JobRole', 'JobSatisfaction', 'MaritalStatus',\n",
       "        'MonthlyIncome($)', 'MonthlyRate($)', 'NumCompaniesWorked', 'Over18',\n",
       "        'OverTime', 'PercentSalaryHike', 'PerformanceRating',\n",
       "        'RelationshipSatisfaction', 'StandardHours', 'StockOptionLevel',\n",
       "        'TotalWorkingYears', 'TrainingTimesLastYear', 'WorkLifeBalance',\n",
       "        'YearsAtCompany', 'YearsInCurrentRole', 'YearsSinceLastPromotion',\n",
       "        'YearsWithCurrManager'],\n",
       "       dtype='object'),\n",
       " Age                         0\n",
       " Resigned                    0\n",
       " BusinessTravel              0\n",
       " DailyRate($)                0\n",
       " Department                  0\n",
       " DistanceFromHome(km)        0\n",
       " EducationField              0\n",
       " EmployeeNumber              0\n",
       " EnvironmentSatisfaction     0\n",
       " Gender                      0\n",
       " HourlyRate                  0\n",
       " JobInvolvement              0\n",
       " JobLevel                    0\n",
       " JobRole                     0\n",
       " JobSatisfaction             0\n",
       " MaritalStatus               0\n",
       " MonthlyIncome($)            0\n",
       " MonthlyRate($)              0\n",
       " NumCompaniesWorked          0\n",
       " Over18                      0\n",
       " OverTime                    0\n",
       " PercentSalaryHike           0\n",
       " PerformanceRating           0\n",
       " RelationshipSatisfaction    0\n",
       " StandardHours               0\n",
       " StockOptionLevel            0\n",
       " TotalWorkingYears           0\n",
       " TrainingTimesLastYear       0\n",
       " WorkLifeBalance             0\n",
       " YearsAtCompany              0\n",
       " YearsInCurrentRole          0\n",
       " YearsSinceLastPromotion     0\n",
       " YearsWithCurrManager        0\n",
       " dtype: int64)"
      ]
     },
     "execution_count": 325,
     "metadata": {},
     "output_type": "execute_result"
    }
   ],
   "source": [
    "#call the function\n",
    "EDA(attrition)"
   ]
  },
  {
   "cell_type": "markdown",
   "metadata": {},
   "source": [
    "The dataset contains 1470 rows and 33 columns. It has 24 numerical variables and 9 String variables. \n",
    "The standard hours variable is in a wrong format, so we have to convert this to the correct format."
   ]
  },
  {
   "cell_type": "code",
   "execution_count": 326,
   "metadata": {},
   "outputs": [],
   "source": [
    "# format standard hours to Datetime format \n",
    "attrition['StandardHours'] = pd.to_datetime(attrition['StandardHours'])"
   ]
  },
  {
   "cell_type": "markdown",
   "metadata": {},
   "source": [
    "We can also try to visualise the missing values with a heat map"
   ]
  },
  {
   "cell_type": "code",
   "execution_count": 327,
   "metadata": {},
   "outputs": [
    {
     "data": {
      "text/plain": [
       "<AxesSubplot:>"
      ]
     },
     "execution_count": 327,
     "metadata": {},
     "output_type": "execute_result"
    },
    {
     "data": {
      "image/png": "[encoded data removed]",
      "text/plain": [
       "<Figure size 432x288 with 1 Axes>"
      ]
     },
     "metadata": {
      "needs_background": "light"
     },
     "output_type": "display_data"
    }
   ],
   "source": [
    "#no missing values, we can also visualise this\n",
    "sns.heatmap(attrition.isnull(),yticklabels=False,cbar=False,cmap='viridis')"
   ]
  },
  {
   "cell_type": "markdown",
   "metadata": {},
   "source": [
    "There are no missing values in the dataset as I could vizualise with a heatmap. If there were missing values there would be some yellow points in the dataset"
   ]
  },
  {
   "cell_type": "markdown",
   "metadata": {},
   "source": [
    "Next, we check for the statistical description of the dataset"
   ]
  },
  {
   "cell_type": "code",
   "execution_count": 328,
   "metadata": {},
   "outputs": [
    {
     "data": {
      "text/html": [
       "<div>\n",
       "<style scoped>\n",
       "    .dataframe tbody tr th:only-of-type {\n",
       "        vertical-align: middle;\n",
       "    }\n",
       "\n",
       "    .dataframe tbody tr th {\n",
       "        vertical-align: top;\n",
       "    }\n",
       "\n",
       "    .dataframe thead th {\n",
       "        text-align: right;\n",
       "    }\n",
       "</style>\n",
       "<table border=\"1\" class=\"dataframe\">\n",
       "  <thead>\n",
       "    <tr style=\"text-align: right;\">\n",
       "      <th></th>\n",
       "      <th>Age</th>\n",
       "      <th>DailyRate($)</th>\n",
       "      <th>DistanceFromHome(km)</th>\n",
       "      <th>EmployeeNumber</th>\n",
       "      <th>EnvironmentSatisfaction</th>\n",
       "      <th>HourlyRate</th>\n",
       "      <th>JobInvolvement</th>\n",
       "      <th>JobLevel</th>\n",
       "      <th>JobSatisfaction</th>\n",
       "      <th>MonthlyIncome($)</th>\n",
       "      <th>...</th>\n",
       "      <th>PerformanceRating</th>\n",
       "      <th>RelationshipSatisfaction</th>\n",
       "      <th>StockOptionLevel</th>\n",
       "      <th>TotalWorkingYears</th>\n",
       "      <th>TrainingTimesLastYear</th>\n",
       "      <th>WorkLifeBalance</th>\n",
       "      <th>YearsAtCompany</th>\n",
       "      <th>YearsInCurrentRole</th>\n",
       "      <th>YearsSinceLastPromotion</th>\n",
       "      <th>YearsWithCurrManager</th>\n",
       "    </tr>\n",
       "  </thead>\n",
       "  <tbody>\n",
       "    <tr>\n",
       "      <th>count</th>\n",
       "      <td>1470.000000</td>\n",
       "      <td>1470.000000</td>\n",
       "      <td>1470.000000</td>\n",
       "      <td>1470.000000</td>\n",
       "      <td>1470.000000</td>\n",
       "      <td>1470.000000</td>\n",
       "      <td>1470.000000</td>\n",
       "      <td>1470.000000</td>\n",
       "      <td>1470.000000</td>\n",
       "      <td>1470.000000</td>\n",
       "      <td>...</td>\n",
       "      <td>1470.000000</td>\n",
       "      <td>1470.000000</td>\n",
       "      <td>1470.000000</td>\n",
       "      <td>1470.000000</td>\n",
       "      <td>1470.000000</td>\n",
       "      <td>1470.000000</td>\n",
       "      <td>1470.000000</td>\n",
       "      <td>1470.000000</td>\n",
       "      <td>1470.000000</td>\n",
       "      <td>1470.000000</td>\n",
       "    </tr>\n",
       "    <tr>\n",
       "      <th>mean</th>\n",
       "      <td>36.923810</td>\n",
       "      <td>802.485714</td>\n",
       "      <td>9.192517</td>\n",
       "      <td>1024.865306</td>\n",
       "      <td>2.721769</td>\n",
       "      <td>65.891156</td>\n",
       "      <td>2.729932</td>\n",
       "      <td>2.063946</td>\n",
       "      <td>2.728571</td>\n",
       "      <td>6502.931293</td>\n",
       "      <td>...</td>\n",
       "      <td>3.153741</td>\n",
       "      <td>2.712245</td>\n",
       "      <td>0.793878</td>\n",
       "      <td>11.279592</td>\n",
       "      <td>2.799320</td>\n",
       "      <td>2.761224</td>\n",
       "      <td>7.008163</td>\n",
       "      <td>4.229252</td>\n",
       "      <td>2.187755</td>\n",
       "      <td>4.123129</td>\n",
       "    </tr>\n",
       "    <tr>\n",
       "      <th>std</th>\n",
       "      <td>9.135373</td>\n",
       "      <td>403.509100</td>\n",
       "      <td>8.106864</td>\n",
       "      <td>602.024335</td>\n",
       "      <td>1.093082</td>\n",
       "      <td>20.329428</td>\n",
       "      <td>0.711561</td>\n",
       "      <td>1.106940</td>\n",
       "      <td>1.102846</td>\n",
       "      <td>4707.956783</td>\n",
       "      <td>...</td>\n",
       "      <td>0.360824</td>\n",
       "      <td>1.081209</td>\n",
       "      <td>0.852077</td>\n",
       "      <td>7.780782</td>\n",
       "      <td>1.289271</td>\n",
       "      <td>0.706476</td>\n",
       "      <td>6.126525</td>\n",
       "      <td>3.623137</td>\n",
       "      <td>3.222430</td>\n",
       "      <td>3.568136</td>\n",
       "    </tr>\n",
       "    <tr>\n",
       "      <th>min</th>\n",
       "      <td>18.000000</td>\n",
       "      <td>102.000000</td>\n",
       "      <td>1.000000</td>\n",
       "      <td>1.000000</td>\n",
       "      <td>1.000000</td>\n",
       "      <td>30.000000</td>\n",
       "      <td>1.000000</td>\n",
       "      <td>1.000000</td>\n",
       "      <td>1.000000</td>\n",
       "      <td>1009.000000</td>\n",
       "      <td>...</td>\n",
       "      <td>3.000000</td>\n",
       "      <td>1.000000</td>\n",
       "      <td>0.000000</td>\n",
       "      <td>0.000000</td>\n",
       "      <td>0.000000</td>\n",
       "      <td>1.000000</td>\n",
       "      <td>0.000000</td>\n",
       "      <td>0.000000</td>\n",
       "      <td>0.000000</td>\n",
       "      <td>0.000000</td>\n",
       "    </tr>\n",
       "    <tr>\n",
       "      <th>25%</th>\n",
       "      <td>30.000000</td>\n",
       "      <td>465.000000</td>\n",
       "      <td>2.000000</td>\n",
       "      <td>491.250000</td>\n",
       "      <td>2.000000</td>\n",
       "      <td>48.000000</td>\n",
       "      <td>2.000000</td>\n",
       "      <td>1.000000</td>\n",
       "      <td>2.000000</td>\n",
       "      <td>2911.000000</td>\n",
       "      <td>...</td>\n",
       "      <td>3.000000</td>\n",
       "      <td>2.000000</td>\n",
       "      <td>0.000000</td>\n",
       "      <td>6.000000</td>\n",
       "      <td>2.000000</td>\n",
       "      <td>2.000000</td>\n",
       "      <td>3.000000</td>\n",
       "      <td>2.000000</td>\n",
       "      <td>0.000000</td>\n",
       "      <td>2.000000</td>\n",
       "    </tr>\n",
       "    <tr>\n",
       "      <th>50%</th>\n",
       "      <td>36.000000</td>\n",
       "      <td>802.000000</td>\n",
       "      <td>7.000000</td>\n",
       "      <td>1020.500000</td>\n",
       "      <td>3.000000</td>\n",
       "      <td>66.000000</td>\n",
       "      <td>3.000000</td>\n",
       "      <td>2.000000</td>\n",
       "      <td>3.000000</td>\n",
       "      <td>4919.000000</td>\n",
       "      <td>...</td>\n",
       "      <td>3.000000</td>\n",
       "      <td>3.000000</td>\n",
       "      <td>1.000000</td>\n",
       "      <td>10.000000</td>\n",
       "      <td>3.000000</td>\n",
       "      <td>3.000000</td>\n",
       "      <td>5.000000</td>\n",
       "      <td>3.000000</td>\n",
       "      <td>1.000000</td>\n",
       "      <td>3.000000</td>\n",
       "    </tr>\n",
       "    <tr>\n",
       "      <th>75%</th>\n",
       "      <td>43.000000</td>\n",
       "      <td>1157.000000</td>\n",
       "      <td>14.000000</td>\n",
       "      <td>1555.750000</td>\n",
       "      <td>4.000000</td>\n",
       "      <td>83.750000</td>\n",
       "      <td>3.000000</td>\n",
       "      <td>3.000000</td>\n",
       "      <td>4.000000</td>\n",
       "      <td>8379.000000</td>\n",
       "      <td>...</td>\n",
       "      <td>3.000000</td>\n",
       "      <td>4.000000</td>\n",
       "      <td>1.000000</td>\n",
       "      <td>15.000000</td>\n",
       "      <td>3.000000</td>\n",
       "      <td>3.000000</td>\n",
       "      <td>9.000000</td>\n",
       "      <td>7.000000</td>\n",
       "      <td>3.000000</td>\n",
       "      <td>7.000000</td>\n",
       "    </tr>\n",
       "    <tr>\n",
       "      <th>max</th>\n",
       "      <td>60.000000</td>\n",
       "      <td>1499.000000</td>\n",
       "      <td>29.000000</td>\n",
       "      <td>2068.000000</td>\n",
       "      <td>4.000000</td>\n",
       "      <td>100.000000</td>\n",
       "      <td>4.000000</td>\n",
       "      <td>5.000000</td>\n",
       "      <td>4.000000</td>\n",
       "      <td>19999.000000</td>\n",
       "      <td>...</td>\n",
       "      <td>4.000000</td>\n",
       "      <td>4.000000</td>\n",
       "      <td>3.000000</td>\n",
       "      <td>40.000000</td>\n",
       "      <td>6.000000</td>\n",
       "      <td>4.000000</td>\n",
       "      <td>40.000000</td>\n",
       "      <td>18.000000</td>\n",
       "      <td>15.000000</td>\n",
       "      <td>17.000000</td>\n",
       "    </tr>\n",
       "  </tbody>\n",
       "</table>\n",
       "<p>8 rows × 23 columns</p>\n",
       "</div>"
      ],
      "text/plain": [
       "               Age  DailyRate($)  DistanceFromHome(km)  EmployeeNumber  \\\n",
       "count  1470.000000   1470.000000           1470.000000     1470.000000   \n",
       "mean     36.923810    802.485714              9.192517     1024.865306   \n",
       "std       9.135373    403.509100              8.106864      602.024335   \n",
       "min      18.000000    102.000000              1.000000        1.000000   \n",
       "25%      30.000000    465.000000              2.000000      491.250000   \n",
       "50%      36.000000    802.000000              7.000000     1020.500000   \n",
       "75%      43.000000   1157.000000             14.000000     1555.750000   \n",
       "max      60.000000   1499.000000             29.000000     2068.000000   \n",
       "\n",
       "       EnvironmentSatisfaction   HourlyRate  JobInvolvement     JobLevel  \\\n",
       "count              1470.000000  1470.000000     1470.000000  1470.000000   \n",
       "mean                  2.721769    65.891156        2.729932     2.063946   \n",
       "std                   1.093082    20.329428        0.711561     1.106940   \n",
       "min                   1.000000    30.000000        1.000000     1.000000   \n",
       "25%                   2.000000    48.000000        2.000000     1.000000   \n",
       "50%                   3.000000    66.000000        3.000000     2.000000   \n",
       "75%                   4.000000    83.750000        3.000000     3.000000   \n",
       "max                   4.000000   100.000000        4.000000     5.000000   \n",
       "\n",
       "       JobSatisfaction  MonthlyIncome($)  ...  PerformanceRating  \\\n",
       "count      1470.000000       1470.000000  ...        1470.000000   \n",
       "mean          2.728571       6502.931293  ...           3.153741   \n",
       "std           1.102846       4707.956783  ...           0.360824   \n",
       "min           1.000000       1009.000000  ...           3.000000   \n",
       "25%           2.000000       2911.000000  ...           3.000000   \n",
       "50%           3.000000       4919.000000  ...           3.000000   \n",
       "75%           4.000000       8379.000000  ...           3.000000   \n",
       "max           4.000000      19999.000000  ...           4.000000   \n",
       "\n",
       "       RelationshipSatisfaction  StockOptionLevel  TotalWorkingYears  \\\n",
       "count               1470.000000       1470.000000        1470.000000   \n",
       "mean                   2.712245          0.793878          11.279592   \n",
       "std                    1.081209          0.852077           7.780782   \n",
       "min                    1.000000          0.000000           0.000000   \n",
       "25%                    2.000000          0.000000           6.000000   \n",
       "50%                    3.000000          1.000000          10.000000   \n",
       "75%                    4.000000          1.000000          15.000000   \n",
       "max                    4.000000          3.000000          40.000000   \n",
       "\n",
       "       TrainingTimesLastYear  WorkLifeBalance  YearsAtCompany  \\\n",
       "count            1470.000000      1470.000000     1470.000000   \n",
       "mean                2.799320         2.761224        7.008163   \n",
       "std                 1.289271         0.706476        6.126525   \n",
       "min                 0.000000         1.000000        0.000000   \n",
       "25%                 2.000000         2.000000        3.000000   \n",
       "50%                 3.000000         3.000000        5.000000   \n",
       "75%                 3.000000         3.000000        9.000000   \n",
       "max                 6.000000         4.000000       40.000000   \n",
       "\n",
       "       YearsInCurrentRole  YearsSinceLastPromotion  YearsWithCurrManager  \n",
       "count         1470.000000              1470.000000           1470.000000  \n",
       "mean             4.229252                 2.187755              4.123129  \n",
       "std              3.623137                 3.222430              3.568136  \n",
       "min              0.000000                 0.000000              0.000000  \n",
       "25%              2.000000                 0.000000              2.000000  \n",
       "50%              3.000000                 1.000000              3.000000  \n",
       "75%              7.000000                 3.000000              7.000000  \n",
       "max             18.000000                15.000000             17.000000  \n",
       "\n",
       "[8 rows x 23 columns]"
      ]
     },
     "execution_count": 328,
     "metadata": {},
     "output_type": "execute_result"
    }
   ],
   "source": [
    "#statistical description of the dataset\n",
    "attrition.describe()"
   ]
  },
  {
   "cell_type": "markdown",
   "metadata": {},
   "source": [
    "### Finding Correlation between the Features"
   ]
  },
  {
   "cell_type": "code",
   "execution_count": 329,
   "metadata": {},
   "outputs": [
    {
     "data": {
      "text/html": [
       "<div>\n",
       "<style scoped>\n",
       "    .dataframe tbody tr th:only-of-type {\n",
       "        vertical-align: middle;\n",
       "    }\n",
       "\n",
       "    .dataframe tbody tr th {\n",
       "        vertical-align: top;\n",
       "    }\n",
       "\n",
       "    .dataframe thead th {\n",
       "        text-align: right;\n",
       "    }\n",
       "</style>\n",
       "<table border=\"1\" class=\"dataframe\">\n",
       "  <thead>\n",
       "    <tr style=\"text-align: right;\">\n",
       "      <th></th>\n",
       "      <th>Age</th>\n",
       "      <th>DailyRate($)</th>\n",
       "      <th>DistanceFromHome(km)</th>\n",
       "      <th>EmployeeNumber</th>\n",
       "      <th>EnvironmentSatisfaction</th>\n",
       "      <th>HourlyRate</th>\n",
       "      <th>JobInvolvement</th>\n",
       "      <th>JobLevel</th>\n",
       "      <th>JobSatisfaction</th>\n",
       "      <th>MonthlyIncome($)</th>\n",
       "      <th>...</th>\n",
       "      <th>PerformanceRating</th>\n",
       "      <th>RelationshipSatisfaction</th>\n",
       "      <th>StockOptionLevel</th>\n",
       "      <th>TotalWorkingYears</th>\n",
       "      <th>TrainingTimesLastYear</th>\n",
       "      <th>WorkLifeBalance</th>\n",
       "      <th>YearsAtCompany</th>\n",
       "      <th>YearsInCurrentRole</th>\n",
       "      <th>YearsSinceLastPromotion</th>\n",
       "      <th>YearsWithCurrManager</th>\n",
       "    </tr>\n",
       "  </thead>\n",
       "  <tbody>\n",
       "    <tr>\n",
       "      <th>Age</th>\n",
       "      <td>1.000000</td>\n",
       "      <td>0.010661</td>\n",
       "      <td>-0.001686</td>\n",
       "      <td>-0.010145</td>\n",
       "      <td>0.010146</td>\n",
       "      <td>0.024287</td>\n",
       "      <td>0.029820</td>\n",
       "      <td>0.509604</td>\n",
       "      <td>-0.004892</td>\n",
       "      <td>0.497855</td>\n",
       "      <td>...</td>\n",
       "      <td>0.001904</td>\n",
       "      <td>0.053535</td>\n",
       "      <td>0.037510</td>\n",
       "      <td>0.680381</td>\n",
       "      <td>-0.019621</td>\n",
       "      <td>-0.021490</td>\n",
       "      <td>0.311309</td>\n",
       "      <td>0.212901</td>\n",
       "      <td>0.216513</td>\n",
       "      <td>0.202089</td>\n",
       "    </tr>\n",
       "    <tr>\n",
       "      <th>DailyRate($)</th>\n",
       "      <td>0.010661</td>\n",
       "      <td>1.000000</td>\n",
       "      <td>-0.004985</td>\n",
       "      <td>-0.050990</td>\n",
       "      <td>0.018355</td>\n",
       "      <td>0.023381</td>\n",
       "      <td>0.046135</td>\n",
       "      <td>0.002966</td>\n",
       "      <td>0.030571</td>\n",
       "      <td>0.007707</td>\n",
       "      <td>...</td>\n",
       "      <td>0.000473</td>\n",
       "      <td>0.007846</td>\n",
       "      <td>0.042143</td>\n",
       "      <td>0.014515</td>\n",
       "      <td>0.002453</td>\n",
       "      <td>-0.037848</td>\n",
       "      <td>-0.034055</td>\n",
       "      <td>0.009932</td>\n",
       "      <td>-0.033229</td>\n",
       "      <td>-0.026363</td>\n",
       "    </tr>\n",
       "    <tr>\n",
       "      <th>DistanceFromHome(km)</th>\n",
       "      <td>-0.001686</td>\n",
       "      <td>-0.004985</td>\n",
       "      <td>1.000000</td>\n",
       "      <td>0.032916</td>\n",
       "      <td>-0.016075</td>\n",
       "      <td>0.031131</td>\n",
       "      <td>0.008783</td>\n",
       "      <td>0.005303</td>\n",
       "      <td>-0.003669</td>\n",
       "      <td>-0.017014</td>\n",
       "      <td>...</td>\n",
       "      <td>0.027110</td>\n",
       "      <td>0.006557</td>\n",
       "      <td>0.044872</td>\n",
       "      <td>0.004628</td>\n",
       "      <td>-0.036942</td>\n",
       "      <td>-0.026556</td>\n",
       "      <td>0.009508</td>\n",
       "      <td>0.018845</td>\n",
       "      <td>0.010029</td>\n",
       "      <td>0.014406</td>\n",
       "    </tr>\n",
       "    <tr>\n",
       "      <th>EmployeeNumber</th>\n",
       "      <td>-0.010145</td>\n",
       "      <td>-0.050990</td>\n",
       "      <td>0.032916</td>\n",
       "      <td>1.000000</td>\n",
       "      <td>0.017621</td>\n",
       "      <td>0.035179</td>\n",
       "      <td>-0.006888</td>\n",
       "      <td>-0.018519</td>\n",
       "      <td>-0.046247</td>\n",
       "      <td>-0.014829</td>\n",
       "      <td>...</td>\n",
       "      <td>-0.020359</td>\n",
       "      <td>-0.069861</td>\n",
       "      <td>0.062227</td>\n",
       "      <td>-0.014365</td>\n",
       "      <td>0.023603</td>\n",
       "      <td>0.010309</td>\n",
       "      <td>-0.011240</td>\n",
       "      <td>-0.008416</td>\n",
       "      <td>-0.009019</td>\n",
       "      <td>-0.009197</td>\n",
       "    </tr>\n",
       "    <tr>\n",
       "      <th>EnvironmentSatisfaction</th>\n",
       "      <td>0.010146</td>\n",
       "      <td>0.018355</td>\n",
       "      <td>-0.016075</td>\n",
       "      <td>0.017621</td>\n",
       "      <td>1.000000</td>\n",
       "      <td>-0.049857</td>\n",
       "      <td>-0.008278</td>\n",
       "      <td>0.001212</td>\n",
       "      <td>-0.006784</td>\n",
       "      <td>-0.006259</td>\n",
       "      <td>...</td>\n",
       "      <td>-0.029548</td>\n",
       "      <td>0.007665</td>\n",
       "      <td>0.003432</td>\n",
       "      <td>-0.002693</td>\n",
       "      <td>-0.019359</td>\n",
       "      <td>0.027627</td>\n",
       "      <td>0.001458</td>\n",
       "      <td>0.018007</td>\n",
       "      <td>0.016194</td>\n",
       "      <td>-0.004999</td>\n",
       "    </tr>\n",
       "    <tr>\n",
       "      <th>HourlyRate</th>\n",
       "      <td>0.024287</td>\n",
       "      <td>0.023381</td>\n",
       "      <td>0.031131</td>\n",
       "      <td>0.035179</td>\n",
       "      <td>-0.049857</td>\n",
       "      <td>1.000000</td>\n",
       "      <td>0.042861</td>\n",
       "      <td>-0.027853</td>\n",
       "      <td>-0.071335</td>\n",
       "      <td>-0.015794</td>\n",
       "      <td>...</td>\n",
       "      <td>-0.002172</td>\n",
       "      <td>0.001330</td>\n",
       "      <td>0.050263</td>\n",
       "      <td>-0.002334</td>\n",
       "      <td>-0.008548</td>\n",
       "      <td>-0.004607</td>\n",
       "      <td>-0.019582</td>\n",
       "      <td>-0.024106</td>\n",
       "      <td>-0.026716</td>\n",
       "      <td>-0.020123</td>\n",
       "    </tr>\n",
       "    <tr>\n",
       "      <th>JobInvolvement</th>\n",
       "      <td>0.029820</td>\n",
       "      <td>0.046135</td>\n",
       "      <td>0.008783</td>\n",
       "      <td>-0.006888</td>\n",
       "      <td>-0.008278</td>\n",
       "      <td>0.042861</td>\n",
       "      <td>1.000000</td>\n",
       "      <td>-0.012630</td>\n",
       "      <td>-0.021476</td>\n",
       "      <td>-0.015271</td>\n",
       "      <td>...</td>\n",
       "      <td>-0.029071</td>\n",
       "      <td>0.034297</td>\n",
       "      <td>0.021523</td>\n",
       "      <td>-0.005533</td>\n",
       "      <td>-0.015338</td>\n",
       "      <td>-0.014617</td>\n",
       "      <td>-0.021355</td>\n",
       "      <td>0.008717</td>\n",
       "      <td>-0.024184</td>\n",
       "      <td>0.025976</td>\n",
       "    </tr>\n",
       "    <tr>\n",
       "      <th>JobLevel</th>\n",
       "      <td>0.509604</td>\n",
       "      <td>0.002966</td>\n",
       "      <td>0.005303</td>\n",
       "      <td>-0.018519</td>\n",
       "      <td>0.001212</td>\n",
       "      <td>-0.027853</td>\n",
       "      <td>-0.012630</td>\n",
       "      <td>1.000000</td>\n",
       "      <td>-0.001944</td>\n",
       "      <td>0.950300</td>\n",
       "      <td>...</td>\n",
       "      <td>-0.021222</td>\n",
       "      <td>0.021642</td>\n",
       "      <td>0.013984</td>\n",
       "      <td>0.782208</td>\n",
       "      <td>-0.018191</td>\n",
       "      <td>0.037818</td>\n",
       "      <td>0.534739</td>\n",
       "      <td>0.389447</td>\n",
       "      <td>0.353885</td>\n",
       "      <td>0.375281</td>\n",
       "    </tr>\n",
       "    <tr>\n",
       "      <th>JobSatisfaction</th>\n",
       "      <td>-0.004892</td>\n",
       "      <td>0.030571</td>\n",
       "      <td>-0.003669</td>\n",
       "      <td>-0.046247</td>\n",
       "      <td>-0.006784</td>\n",
       "      <td>-0.071335</td>\n",
       "      <td>-0.021476</td>\n",
       "      <td>-0.001944</td>\n",
       "      <td>1.000000</td>\n",
       "      <td>-0.007157</td>\n",
       "      <td>...</td>\n",
       "      <td>0.002297</td>\n",
       "      <td>-0.012454</td>\n",
       "      <td>0.010690</td>\n",
       "      <td>-0.020185</td>\n",
       "      <td>-0.005779</td>\n",
       "      <td>-0.019459</td>\n",
       "      <td>-0.003803</td>\n",
       "      <td>-0.002305</td>\n",
       "      <td>-0.018214</td>\n",
       "      <td>-0.027656</td>\n",
       "    </tr>\n",
       "    <tr>\n",
       "      <th>MonthlyIncome($)</th>\n",
       "      <td>0.497855</td>\n",
       "      <td>0.007707</td>\n",
       "      <td>-0.017014</td>\n",
       "      <td>-0.014829</td>\n",
       "      <td>-0.006259</td>\n",
       "      <td>-0.015794</td>\n",
       "      <td>-0.015271</td>\n",
       "      <td>0.950300</td>\n",
       "      <td>-0.007157</td>\n",
       "      <td>1.000000</td>\n",
       "      <td>...</td>\n",
       "      <td>-0.017120</td>\n",
       "      <td>0.025873</td>\n",
       "      <td>0.005408</td>\n",
       "      <td>0.772893</td>\n",
       "      <td>-0.021736</td>\n",
       "      <td>0.030683</td>\n",
       "      <td>0.514285</td>\n",
       "      <td>0.363818</td>\n",
       "      <td>0.344978</td>\n",
       "      <td>0.344079</td>\n",
       "    </tr>\n",
       "    <tr>\n",
       "      <th>MonthlyRate($)</th>\n",
       "      <td>0.028051</td>\n",
       "      <td>-0.032182</td>\n",
       "      <td>0.027473</td>\n",
       "      <td>0.012648</td>\n",
       "      <td>0.037600</td>\n",
       "      <td>-0.015297</td>\n",
       "      <td>-0.016322</td>\n",
       "      <td>0.039563</td>\n",
       "      <td>0.000644</td>\n",
       "      <td>0.034814</td>\n",
       "      <td>...</td>\n",
       "      <td>-0.009811</td>\n",
       "      <td>-0.004085</td>\n",
       "      <td>-0.034323</td>\n",
       "      <td>0.026442</td>\n",
       "      <td>0.001467</td>\n",
       "      <td>0.007963</td>\n",
       "      <td>-0.023655</td>\n",
       "      <td>-0.012815</td>\n",
       "      <td>0.001567</td>\n",
       "      <td>-0.036746</td>\n",
       "    </tr>\n",
       "    <tr>\n",
       "      <th>NumCompaniesWorked</th>\n",
       "      <td>0.299635</td>\n",
       "      <td>0.038153</td>\n",
       "      <td>-0.029251</td>\n",
       "      <td>-0.001251</td>\n",
       "      <td>0.012594</td>\n",
       "      <td>0.022157</td>\n",
       "      <td>0.015012</td>\n",
       "      <td>0.142501</td>\n",
       "      <td>-0.055699</td>\n",
       "      <td>0.149515</td>\n",
       "      <td>...</td>\n",
       "      <td>-0.014095</td>\n",
       "      <td>0.052733</td>\n",
       "      <td>0.030075</td>\n",
       "      <td>0.237639</td>\n",
       "      <td>-0.066054</td>\n",
       "      <td>-0.008366</td>\n",
       "      <td>-0.118421</td>\n",
       "      <td>-0.090754</td>\n",
       "      <td>-0.036814</td>\n",
       "      <td>-0.110319</td>\n",
       "    </tr>\n",
       "    <tr>\n",
       "      <th>PercentSalaryHike</th>\n",
       "      <td>0.003634</td>\n",
       "      <td>0.022704</td>\n",
       "      <td>0.040235</td>\n",
       "      <td>-0.012944</td>\n",
       "      <td>-0.031701</td>\n",
       "      <td>-0.009062</td>\n",
       "      <td>-0.017205</td>\n",
       "      <td>-0.034730</td>\n",
       "      <td>0.020002</td>\n",
       "      <td>-0.027269</td>\n",
       "      <td>...</td>\n",
       "      <td>0.773550</td>\n",
       "      <td>-0.040490</td>\n",
       "      <td>0.007528</td>\n",
       "      <td>-0.020608</td>\n",
       "      <td>-0.005221</td>\n",
       "      <td>-0.003280</td>\n",
       "      <td>-0.035991</td>\n",
       "      <td>-0.001520</td>\n",
       "      <td>-0.022154</td>\n",
       "      <td>-0.011985</td>\n",
       "    </tr>\n",
       "    <tr>\n",
       "      <th>PerformanceRating</th>\n",
       "      <td>0.001904</td>\n",
       "      <td>0.000473</td>\n",
       "      <td>0.027110</td>\n",
       "      <td>-0.020359</td>\n",
       "      <td>-0.029548</td>\n",
       "      <td>-0.002172</td>\n",
       "      <td>-0.029071</td>\n",
       "      <td>-0.021222</td>\n",
       "      <td>0.002297</td>\n",
       "      <td>-0.017120</td>\n",
       "      <td>...</td>\n",
       "      <td>1.000000</td>\n",
       "      <td>-0.031351</td>\n",
       "      <td>0.003506</td>\n",
       "      <td>0.006744</td>\n",
       "      <td>-0.015579</td>\n",
       "      <td>0.002572</td>\n",
       "      <td>0.003435</td>\n",
       "      <td>0.034986</td>\n",
       "      <td>0.017896</td>\n",
       "      <td>0.022827</td>\n",
       "    </tr>\n",
       "    <tr>\n",
       "      <th>RelationshipSatisfaction</th>\n",
       "      <td>0.053535</td>\n",
       "      <td>0.007846</td>\n",
       "      <td>0.006557</td>\n",
       "      <td>-0.069861</td>\n",
       "      <td>0.007665</td>\n",
       "      <td>0.001330</td>\n",
       "      <td>0.034297</td>\n",
       "      <td>0.021642</td>\n",
       "      <td>-0.012454</td>\n",
       "      <td>0.025873</td>\n",
       "      <td>...</td>\n",
       "      <td>-0.031351</td>\n",
       "      <td>1.000000</td>\n",
       "      <td>-0.045952</td>\n",
       "      <td>0.024054</td>\n",
       "      <td>0.002497</td>\n",
       "      <td>0.019604</td>\n",
       "      <td>0.019367</td>\n",
       "      <td>-0.015123</td>\n",
       "      <td>0.033493</td>\n",
       "      <td>-0.000867</td>\n",
       "    </tr>\n",
       "    <tr>\n",
       "      <th>StockOptionLevel</th>\n",
       "      <td>0.037510</td>\n",
       "      <td>0.042143</td>\n",
       "      <td>0.044872</td>\n",
       "      <td>0.062227</td>\n",
       "      <td>0.003432</td>\n",
       "      <td>0.050263</td>\n",
       "      <td>0.021523</td>\n",
       "      <td>0.013984</td>\n",
       "      <td>0.010690</td>\n",
       "      <td>0.005408</td>\n",
       "      <td>...</td>\n",
       "      <td>0.003506</td>\n",
       "      <td>-0.045952</td>\n",
       "      <td>1.000000</td>\n",
       "      <td>0.010136</td>\n",
       "      <td>0.011274</td>\n",
       "      <td>0.004129</td>\n",
       "      <td>0.015058</td>\n",
       "      <td>0.050818</td>\n",
       "      <td>0.014352</td>\n",
       "      <td>0.024698</td>\n",
       "    </tr>\n",
       "    <tr>\n",
       "      <th>TotalWorkingYears</th>\n",
       "      <td>0.680381</td>\n",
       "      <td>0.014515</td>\n",
       "      <td>0.004628</td>\n",
       "      <td>-0.014365</td>\n",
       "      <td>-0.002693</td>\n",
       "      <td>-0.002334</td>\n",
       "      <td>-0.005533</td>\n",
       "      <td>0.782208</td>\n",
       "      <td>-0.020185</td>\n",
       "      <td>0.772893</td>\n",
       "      <td>...</td>\n",
       "      <td>0.006744</td>\n",
       "      <td>0.024054</td>\n",
       "      <td>0.010136</td>\n",
       "      <td>1.000000</td>\n",
       "      <td>-0.035662</td>\n",
       "      <td>0.001008</td>\n",
       "      <td>0.628133</td>\n",
       "      <td>0.460365</td>\n",
       "      <td>0.404858</td>\n",
       "      <td>0.459188</td>\n",
       "    </tr>\n",
       "    <tr>\n",
       "      <th>TrainingTimesLastYear</th>\n",
       "      <td>-0.019621</td>\n",
       "      <td>0.002453</td>\n",
       "      <td>-0.036942</td>\n",
       "      <td>0.023603</td>\n",
       "      <td>-0.019359</td>\n",
       "      <td>-0.008548</td>\n",
       "      <td>-0.015338</td>\n",
       "      <td>-0.018191</td>\n",
       "      <td>-0.005779</td>\n",
       "      <td>-0.021736</td>\n",
       "      <td>...</td>\n",
       "      <td>-0.015579</td>\n",
       "      <td>0.002497</td>\n",
       "      <td>0.011274</td>\n",
       "      <td>-0.035662</td>\n",
       "      <td>1.000000</td>\n",
       "      <td>0.028072</td>\n",
       "      <td>0.003569</td>\n",
       "      <td>-0.005738</td>\n",
       "      <td>-0.002067</td>\n",
       "      <td>-0.004096</td>\n",
       "    </tr>\n",
       "    <tr>\n",
       "      <th>WorkLifeBalance</th>\n",
       "      <td>-0.021490</td>\n",
       "      <td>-0.037848</td>\n",
       "      <td>-0.026556</td>\n",
       "      <td>0.010309</td>\n",
       "      <td>0.027627</td>\n",
       "      <td>-0.004607</td>\n",
       "      <td>-0.014617</td>\n",
       "      <td>0.037818</td>\n",
       "      <td>-0.019459</td>\n",
       "      <td>0.030683</td>\n",
       "      <td>...</td>\n",
       "      <td>0.002572</td>\n",
       "      <td>0.019604</td>\n",
       "      <td>0.004129</td>\n",
       "      <td>0.001008</td>\n",
       "      <td>0.028072</td>\n",
       "      <td>1.000000</td>\n",
       "      <td>0.012089</td>\n",
       "      <td>0.049856</td>\n",
       "      <td>0.008941</td>\n",
       "      <td>0.002759</td>\n",
       "    </tr>\n",
       "    <tr>\n",
       "      <th>YearsAtCompany</th>\n",
       "      <td>0.311309</td>\n",
       "      <td>-0.034055</td>\n",
       "      <td>0.009508</td>\n",
       "      <td>-0.011240</td>\n",
       "      <td>0.001458</td>\n",
       "      <td>-0.019582</td>\n",
       "      <td>-0.021355</td>\n",
       "      <td>0.534739</td>\n",
       "      <td>-0.003803</td>\n",
       "      <td>0.514285</td>\n",
       "      <td>...</td>\n",
       "      <td>0.003435</td>\n",
       "      <td>0.019367</td>\n",
       "      <td>0.015058</td>\n",
       "      <td>0.628133</td>\n",
       "      <td>0.003569</td>\n",
       "      <td>0.012089</td>\n",
       "      <td>1.000000</td>\n",
       "      <td>0.758754</td>\n",
       "      <td>0.618409</td>\n",
       "      <td>0.769212</td>\n",
       "    </tr>\n",
       "    <tr>\n",
       "      <th>YearsInCurrentRole</th>\n",
       "      <td>0.212901</td>\n",
       "      <td>0.009932</td>\n",
       "      <td>0.018845</td>\n",
       "      <td>-0.008416</td>\n",
       "      <td>0.018007</td>\n",
       "      <td>-0.024106</td>\n",
       "      <td>0.008717</td>\n",
       "      <td>0.389447</td>\n",
       "      <td>-0.002305</td>\n",
       "      <td>0.363818</td>\n",
       "      <td>...</td>\n",
       "      <td>0.034986</td>\n",
       "      <td>-0.015123</td>\n",
       "      <td>0.050818</td>\n",
       "      <td>0.460365</td>\n",
       "      <td>-0.005738</td>\n",
       "      <td>0.049856</td>\n",
       "      <td>0.758754</td>\n",
       "      <td>1.000000</td>\n",
       "      <td>0.548056</td>\n",
       "      <td>0.714365</td>\n",
       "    </tr>\n",
       "    <tr>\n",
       "      <th>YearsSinceLastPromotion</th>\n",
       "      <td>0.216513</td>\n",
       "      <td>-0.033229</td>\n",
       "      <td>0.010029</td>\n",
       "      <td>-0.009019</td>\n",
       "      <td>0.016194</td>\n",
       "      <td>-0.026716</td>\n",
       "      <td>-0.024184</td>\n",
       "      <td>0.353885</td>\n",
       "      <td>-0.018214</td>\n",
       "      <td>0.344978</td>\n",
       "      <td>...</td>\n",
       "      <td>0.017896</td>\n",
       "      <td>0.033493</td>\n",
       "      <td>0.014352</td>\n",
       "      <td>0.404858</td>\n",
       "      <td>-0.002067</td>\n",
       "      <td>0.008941</td>\n",
       "      <td>0.618409</td>\n",
       "      <td>0.548056</td>\n",
       "      <td>1.000000</td>\n",
       "      <td>0.510224</td>\n",
       "    </tr>\n",
       "    <tr>\n",
       "      <th>YearsWithCurrManager</th>\n",
       "      <td>0.202089</td>\n",
       "      <td>-0.026363</td>\n",
       "      <td>0.014406</td>\n",
       "      <td>-0.009197</td>\n",
       "      <td>-0.004999</td>\n",
       "      <td>-0.020123</td>\n",
       "      <td>0.025976</td>\n",
       "      <td>0.375281</td>\n",
       "      <td>-0.027656</td>\n",
       "      <td>0.344079</td>\n",
       "      <td>...</td>\n",
       "      <td>0.022827</td>\n",
       "      <td>-0.000867</td>\n",
       "      <td>0.024698</td>\n",
       "      <td>0.459188</td>\n",
       "      <td>-0.004096</td>\n",
       "      <td>0.002759</td>\n",
       "      <td>0.769212</td>\n",
       "      <td>0.714365</td>\n",
       "      <td>0.510224</td>\n",
       "      <td>1.000000</td>\n",
       "    </tr>\n",
       "  </tbody>\n",
       "</table>\n",
       "<p>23 rows × 23 columns</p>\n",
       "</div>"
      ],
      "text/plain": [
       "                               Age  DailyRate($)  DistanceFromHome(km)  \\\n",
       "Age                       1.000000      0.010661             -0.001686   \n",
       "DailyRate($)              0.010661      1.000000             -0.004985   \n",
       "DistanceFromHome(km)     -0.001686     -0.004985              1.000000   \n",
       "EmployeeNumber           -0.010145     -0.050990              0.032916   \n",
       "EnvironmentSatisfaction   0.010146      0.018355             -0.016075   \n",
       "HourlyRate                0.024287      0.023381              0.031131   \n",
       "JobInvolvement            0.029820      0.046135              0.008783   \n",
       "JobLevel                  0.509604      0.002966              0.005303   \n",
       "JobSatisfaction          -0.004892      0.030571             -0.003669   \n",
       "MonthlyIncome($)          0.497855      0.007707             -0.017014   \n",
       "MonthlyRate($)            0.028051     -0.032182              0.027473   \n",
       "NumCompaniesWorked        0.299635      0.038153             -0.029251   \n",
       "PercentSalaryHike         0.003634      0.022704              0.040235   \n",
       "PerformanceRating         0.001904      0.000473              0.027110   \n",
       "RelationshipSatisfaction  0.053535      0.007846              0.006557   \n",
       "StockOptionLevel          0.037510      0.042143              0.044872   \n",
       "TotalWorkingYears         0.680381      0.014515              0.004628   \n",
       "TrainingTimesLastYear    -0.019621      0.002453             -0.036942   \n",
       "WorkLifeBalance          -0.021490     -0.037848             -0.026556   \n",
       "YearsAtCompany            0.311309     -0.034055              0.009508   \n",
       "YearsInCurrentRole        0.212901      0.009932              0.018845   \n",
       "YearsSinceLastPromotion   0.216513     -0.033229              0.010029   \n",
       "YearsWithCurrManager      0.202089     -0.026363              0.014406   \n",
       "\n",
       "                          EmployeeNumber  EnvironmentSatisfaction  HourlyRate  \\\n",
       "Age                            -0.010145                 0.010146    0.024287   \n",
       "DailyRate($)                   -0.050990                 0.018355    0.023381   \n",
       "DistanceFromHome(km)            0.032916                -0.016075    0.031131   \n",
       "EmployeeNumber                  1.000000                 0.017621    0.035179   \n",
       "EnvironmentSatisfaction         0.017621                 1.000000   -0.049857   \n",
       "HourlyRate                      0.035179                -0.049857    1.000000   \n",
       "JobInvolvement                 -0.006888                -0.008278    0.042861   \n",
       "JobLevel                       -0.018519                 0.001212   -0.027853   \n",
       "JobSatisfaction                -0.046247                -0.006784   -0.071335   \n",
       "MonthlyIncome($)               -0.014829                -0.006259   -0.015794   \n",
       "MonthlyRate($)                  0.012648                 0.037600   -0.015297   \n",
       "NumCompaniesWorked             -0.001251                 0.012594    0.022157   \n",
       "PercentSalaryHike              -0.012944                -0.031701   -0.009062   \n",
       "PerformanceRating              -0.020359                -0.029548   -0.002172   \n",
       "RelationshipSatisfaction       -0.069861                 0.007665    0.001330   \n",
       "StockOptionLevel                0.062227                 0.003432    0.050263   \n",
       "TotalWorkingYears              -0.014365                -0.002693   -0.002334   \n",
       "TrainingTimesLastYear           0.023603                -0.019359   -0.008548   \n",
       "WorkLifeBalance                 0.010309                 0.027627   -0.004607   \n",
       "YearsAtCompany                 -0.011240                 0.001458   -0.019582   \n",
       "YearsInCurrentRole             -0.008416                 0.018007   -0.024106   \n",
       "YearsSinceLastPromotion        -0.009019                 0.016194   -0.026716   \n",
       "YearsWithCurrManager           -0.009197                -0.004999   -0.020123   \n",
       "\n",
       "                          JobInvolvement  JobLevel  JobSatisfaction  \\\n",
       "Age                             0.029820  0.509604        -0.004892   \n",
       "DailyRate($)                    0.046135  0.002966         0.030571   \n",
       "DistanceFromHome(km)            0.008783  0.005303        -0.003669   \n",
       "EmployeeNumber                 -0.006888 -0.018519        -0.046247   \n",
       "EnvironmentSatisfaction        -0.008278  0.001212        -0.006784   \n",
       "HourlyRate                      0.042861 -0.027853        -0.071335   \n",
       "JobInvolvement                  1.000000 -0.012630        -0.021476   \n",
       "JobLevel                       -0.012630  1.000000        -0.001944   \n",
       "JobSatisfaction                -0.021476 -0.001944         1.000000   \n",
       "MonthlyIncome($)               -0.015271  0.950300        -0.007157   \n",
       "MonthlyRate($)                 -0.016322  0.039563         0.000644   \n",
       "NumCompaniesWorked              0.015012  0.142501        -0.055699   \n",
       "PercentSalaryHike              -0.017205 -0.034730         0.020002   \n",
       "PerformanceRating              -0.029071 -0.021222         0.002297   \n",
       "RelationshipSatisfaction        0.034297  0.021642        -0.012454   \n",
       "StockOptionLevel                0.021523  0.013984         0.010690   \n",
       "TotalWorkingYears              -0.005533  0.782208        -0.020185   \n",
       "TrainingTimesLastYear          -0.015338 -0.018191        -0.005779   \n",
       "WorkLifeBalance                -0.014617  0.037818        -0.019459   \n",
       "YearsAtCompany                 -0.021355  0.534739        -0.003803   \n",
       "YearsInCurrentRole              0.008717  0.389447        -0.002305   \n",
       "YearsSinceLastPromotion        -0.024184  0.353885        -0.018214   \n",
       "YearsWithCurrManager            0.025976  0.375281        -0.027656   \n",
       "\n",
       "                          MonthlyIncome($)  ...  PerformanceRating  \\\n",
       "Age                               0.497855  ...           0.001904   \n",
       "DailyRate($)                      0.007707  ...           0.000473   \n",
       "DistanceFromHome(km)             -0.017014  ...           0.027110   \n",
       "EmployeeNumber                   -0.014829  ...          -0.020359   \n",
       "EnvironmentSatisfaction          -0.006259  ...          -0.029548   \n",
       "HourlyRate                       -0.015794  ...          -0.002172   \n",
       "JobInvolvement                   -0.015271  ...          -0.029071   \n",
       "JobLevel                          0.950300  ...          -0.021222   \n",
       "JobSatisfaction                  -0.007157  ...           0.002297   \n",
       "MonthlyIncome($)                  1.000000  ...          -0.017120   \n",
       "MonthlyRate($)                    0.034814  ...          -0.009811   \n",
       "NumCompaniesWorked                0.149515  ...          -0.014095   \n",
       "PercentSalaryHike                -0.027269  ...           0.773550   \n",
       "PerformanceRating                -0.017120  ...           1.000000   \n",
       "RelationshipSatisfaction          0.025873  ...          -0.031351   \n",
       "StockOptionLevel                  0.005408  ...           0.003506   \n",
       "TotalWorkingYears                 0.772893  ...           0.006744   \n",
       "TrainingTimesLastYear            -0.021736  ...          -0.015579   \n",
       "WorkLifeBalance                   0.030683  ...           0.002572   \n",
       "YearsAtCompany                    0.514285  ...           0.003435   \n",
       "YearsInCurrentRole                0.363818  ...           0.034986   \n",
       "YearsSinceLastPromotion           0.344978  ...           0.017896   \n",
       "YearsWithCurrManager              0.344079  ...           0.022827   \n",
       "\n",
       "                          RelationshipSatisfaction  StockOptionLevel  \\\n",
       "Age                                       0.053535          0.037510   \n",
       "DailyRate($)                              0.007846          0.042143   \n",
       "DistanceFromHome(km)                      0.006557          0.044872   \n",
       "EmployeeNumber                           -0.069861          0.062227   \n",
       "EnvironmentSatisfaction                   0.007665          0.003432   \n",
       "HourlyRate                                0.001330          0.050263   \n",
       "JobInvolvement                            0.034297          0.021523   \n",
       "JobLevel                                  0.021642          0.013984   \n",
       "JobSatisfaction                          -0.012454          0.010690   \n",
       "MonthlyIncome($)                          0.025873          0.005408   \n",
       "MonthlyRate($)                           -0.004085         -0.034323   \n",
       "NumCompaniesWorked                        0.052733          0.030075   \n",
       "PercentSalaryHike                        -0.040490          0.007528   \n",
       "PerformanceRating                        -0.031351          0.003506   \n",
       "RelationshipSatisfaction                  1.000000         -0.045952   \n",
       "StockOptionLevel                         -0.045952          1.000000   \n",
       "TotalWorkingYears                         0.024054          0.010136   \n",
       "TrainingTimesLastYear                     0.002497          0.011274   \n",
       "WorkLifeBalance                           0.019604          0.004129   \n",
       "YearsAtCompany                            0.019367          0.015058   \n",
       "YearsInCurrentRole                       -0.015123          0.050818   \n",
       "YearsSinceLastPromotion                   0.033493          0.014352   \n",
       "YearsWithCurrManager                     -0.000867          0.024698   \n",
       "\n",
       "                          TotalWorkingYears  TrainingTimesLastYear  \\\n",
       "Age                                0.680381              -0.019621   \n",
       "DailyRate($)                       0.014515               0.002453   \n",
       "DistanceFromHome(km)               0.004628              -0.036942   \n",
       "EmployeeNumber                    -0.014365               0.023603   \n",
       "EnvironmentSatisfaction           -0.002693              -0.019359   \n",
       "HourlyRate                        -0.002334              -0.008548   \n",
       "JobInvolvement                    -0.005533              -0.015338   \n",
       "JobLevel                           0.782208              -0.018191   \n",
       "JobSatisfaction                   -0.020185              -0.005779   \n",
       "MonthlyIncome($)                   0.772893              -0.021736   \n",
       "MonthlyRate($)                     0.026442               0.001467   \n",
       "NumCompaniesWorked                 0.237639              -0.066054   \n",
       "PercentSalaryHike                 -0.020608              -0.005221   \n",
       "PerformanceRating                  0.006744              -0.015579   \n",
       "RelationshipSatisfaction           0.024054               0.002497   \n",
       "StockOptionLevel                   0.010136               0.011274   \n",
       "TotalWorkingYears                  1.000000              -0.035662   \n",
       "TrainingTimesLastYear             -0.035662               1.000000   \n",
       "WorkLifeBalance                    0.001008               0.028072   \n",
       "YearsAtCompany                     0.628133               0.003569   \n",
       "YearsInCurrentRole                 0.460365              -0.005738   \n",
       "YearsSinceLastPromotion            0.404858              -0.002067   \n",
       "YearsWithCurrManager               0.459188              -0.004096   \n",
       "\n",
       "                          WorkLifeBalance  YearsAtCompany  YearsInCurrentRole  \\\n",
       "Age                             -0.021490        0.311309            0.212901   \n",
       "DailyRate($)                    -0.037848       -0.034055            0.009932   \n",
       "DistanceFromHome(km)            -0.026556        0.009508            0.018845   \n",
       "EmployeeNumber                   0.010309       -0.011240           -0.008416   \n",
       "EnvironmentSatisfaction          0.027627        0.001458            0.018007   \n",
       "HourlyRate                      -0.004607       -0.019582           -0.024106   \n",
       "JobInvolvement                  -0.014617       -0.021355            0.008717   \n",
       "JobLevel                         0.037818        0.534739            0.389447   \n",
       "JobSatisfaction                 -0.019459       -0.003803           -0.002305   \n",
       "MonthlyIncome($)                 0.030683        0.514285            0.363818   \n",
       "MonthlyRate($)                   0.007963       -0.023655           -0.012815   \n",
       "NumCompaniesWorked              -0.008366       -0.118421           -0.090754   \n",
       "PercentSalaryHike               -0.003280       -0.035991           -0.001520   \n",
       "PerformanceRating                0.002572        0.003435            0.034986   \n",
       "RelationshipSatisfaction         0.019604        0.019367           -0.015123   \n",
       "StockOptionLevel                 0.004129        0.015058            0.050818   \n",
       "TotalWorkingYears                0.001008        0.628133            0.460365   \n",
       "TrainingTimesLastYear            0.028072        0.003569           -0.005738   \n",
       "WorkLifeBalance                  1.000000        0.012089            0.049856   \n",
       "YearsAtCompany                   0.012089        1.000000            0.758754   \n",
       "YearsInCurrentRole               0.049856        0.758754            1.000000   \n",
       "YearsSinceLastPromotion          0.008941        0.618409            0.548056   \n",
       "YearsWithCurrManager             0.002759        0.769212            0.714365   \n",
       "\n",
       "                          YearsSinceLastPromotion  YearsWithCurrManager  \n",
       "Age                                      0.216513              0.202089  \n",
       "DailyRate($)                            -0.033229             -0.026363  \n",
       "DistanceFromHome(km)                     0.010029              0.014406  \n",
       "EmployeeNumber                          -0.009019             -0.009197  \n",
       "EnvironmentSatisfaction                  0.016194             -0.004999  \n",
       "HourlyRate                              -0.026716             -0.020123  \n",
       "JobInvolvement                          -0.024184              0.025976  \n",
       "JobLevel                                 0.353885              0.375281  \n",
       "JobSatisfaction                         -0.018214             -0.027656  \n",
       "MonthlyIncome($)                         0.344978              0.344079  \n",
       "MonthlyRate($)                           0.001567             -0.036746  \n",
       "NumCompaniesWorked                      -0.036814             -0.110319  \n",
       "PercentSalaryHike                       -0.022154             -0.011985  \n",
       "PerformanceRating                        0.017896              0.022827  \n",
       "RelationshipSatisfaction                 0.033493             -0.000867  \n",
       "StockOptionLevel                         0.014352              0.024698  \n",
       "TotalWorkingYears                        0.404858              0.459188  \n",
       "TrainingTimesLastYear                   -0.002067             -0.004096  \n",
       "WorkLifeBalance                          0.008941              0.002759  \n",
       "YearsAtCompany                           0.618409              0.769212  \n",
       "YearsInCurrentRole                       0.548056              0.714365  \n",
       "YearsSinceLastPromotion                  1.000000              0.510224  \n",
       "YearsWithCurrManager                     0.510224              1.000000  \n",
       "\n",
       "[23 rows x 23 columns]"
      ]
     },
     "execution_count": 329,
     "metadata": {},
     "output_type": "execute_result"
    },
    {
     "data": {
      "image/png": "[encoded data removed]",
      "text/plain": [
       "<Figure size 432x288 with 2 Axes>"
      ]
     },
     "metadata": {
      "needs_background": "light"
     },
     "output_type": "display_data"
    }
   ],
   "source": [
    "corr=attrition.corr()\n",
    "sns.heatmap(corr,xticklabels=True,yticklabels=True,cmap='Oranges_r')\n",
    "corr "
   ]
  },
  {
   "cell_type": "markdown",
   "metadata": {},
   "source": [
    "Highly correlated features\n",
    "\n",
    "Job level vs Monthly Income : 0.950300\n",
    "\n",
    "Total working years vs Job level : 0.782208\n",
    "\n",
    "Total working years vs Monthly Income : 0.772893\n",
    "\n",
    "Age vs Total working years : 0.680381\n",
    "\n",
    "    \n",
    "Moderate Positively Correlated Features: \n",
    "\n",
    "Age vs Job Level :0.509604\n",
    "\n",
    "Years at company vs Job level : 0.534739\n",
    "\n",
    "Age vs monthly incomes : 0.497855 \n",
    "\n",
    "Years in current role vs Job level : 0.389447\n",
    "\n",
    "Years since last promotion vs Job level : 0.353885\n",
    "\n",
    "years with current manager vs Job level : 0.375281"
   ]
  },
  {
   "cell_type": "markdown",
   "metadata": {},
   "source": [
    "### Changing string data type to categorical data type"
   ]
  },
  {
   "cell_type": "code",
   "execution_count": 330,
   "metadata": {},
   "outputs": [],
   "source": [
    "attrition['Resigned'] = attrition['Resigned'].astype('category')\n",
    "attrition['MaritalStatus'] = attrition['MaritalStatus'].astype('category')\n",
    "attrition['EducationField'] = attrition['EducationField'].astype('category')\n",
    "attrition['BusinessTravel'] = attrition['BusinessTravel'].astype('category')\n",
    "attrition['Department'] = attrition['Department'].astype('category')\n",
    "attrition['JobRole'] = attrition['JobRole'].astype('category')\n",
    "attrition['JobRole'] = attrition['JobRole'].astype('category')\n",
    "attrition['Over18'] = attrition['Over18'].astype('category')\n",
    "attrition['OverTime'] = attrition['OverTime'].astype('category')\n"
   ]
  },
  {
   "cell_type": "markdown",
   "metadata": {},
   "source": [
    "## VISUALIZING THE DATA"
   ]
  },
  {
   "cell_type": "code",
   "execution_count": 331,
   "metadata": {},
   "outputs": [],
   "source": [
    "#function to build plots\n",
    "def plot(data,var,var2,color=\"orange\"):\n",
    "    sns.countplot(data=data,x=var,hue=var2)\n",
    "    plt.title(f\"Attrition by: {var}\")\n",
    "    plt.xlabel(f\"{var}\")\n",
    "    plt.ylabel(\"Count\")\n",
    "    plt.show()\n",
    "\n"
   ]
  },
  {
   "cell_type": "code",
   "execution_count": 332,
   "metadata": {},
   "outputs": [
    {
     "data": {
      "image/png": "[encoded data removed]",
      "text/plain": [
       "<Figure size 432x288 with 1 Axes>"
      ]
     },
     "metadata": {
      "needs_background": "light"
     },
     "output_type": "display_data"
    }
   ],
   "source": [
    "age_attrition = plot(attrition,'NumCompaniesWorked','Resigned',plt.xticks(rotation=60))\n"
   ]
  },
  {
   "cell_type": "markdown",
   "metadata": {},
   "source": [
    "The number of companies worked had an opposite effect on the people that resigned. The employees that had only worked in one company resigned the most"
   ]
  },
  {
   "cell_type": "code",
   "execution_count": 333,
   "metadata": {},
   "outputs": [
    {
     "data": {
      "image/png": "[encoded data removed]",
      "text/plain": [
       "<Figure size 432x288 with 1 Axes>"
      ]
     },
     "metadata": {
      "needs_background": "light"
     },
     "output_type": "display_data"
    }
   ],
   "source": [
    "marital_status_attrition = plot(attrition,'MaritalStatus','Resigned')"
   ]
  },
  {
   "cell_type": "markdown",
   "metadata": {},
   "source": [
    "There are more single people that resigned from the company."
   ]
  },
  {
   "cell_type": "code",
   "execution_count": 334,
   "metadata": {},
   "outputs": [
    {
     "data": {
      "image/png": "[encoded data removed]",
      "text/plain": [
       "<Figure size 432x288 with 1 Axes>"
      ]
     },
     "metadata": {
      "needs_background": "light"
     },
     "output_type": "display_data"
    }
   ],
   "source": [
    "gender_attrition = plot(attrition,'Gender','Resigned')"
   ]
  },
  {
   "cell_type": "markdown",
   "metadata": {},
   "source": [
    "There are more males that resigned from the company compared to the females"
   ]
  },
  {
   "cell_type": "code",
   "execution_count": 335,
   "metadata": {},
   "outputs": [
    {
     "data": {
      "image/png": "[encoded data removed]",
      "text/plain": [
       "<Figure size 432x288 with 1 Axes>"
      ]
     },
     "metadata": {
      "needs_background": "light"
     },
     "output_type": "display_data"
    }
   ],
   "source": [
    "department_attrition = plot(attrition,'Department','Resigned')"
   ]
  },
  {
   "cell_type": "markdown",
   "metadata": {},
   "source": [
    "Research and development department had the most resignation, closely followed by sales department"
   ]
  },
  {
   "cell_type": "code",
   "execution_count": 336,
   "metadata": {},
   "outputs": [
    {
     "data": {
      "image/png": "[encoded data removed]",
      "text/plain": [
       "<Figure size 432x288 with 1 Axes>"
      ]
     },
     "metadata": {
      "needs_background": "light"
     },
     "output_type": "display_data"
    }
   ],
   "source": [
    "jobrole_attrition = plot(attrition,'JobRole','Resigned',plt.xticks(rotation=60))"
   ]
  },
  {
   "cell_type": "markdown",
   "metadata": {},
   "source": [
    "Laboratory technicians had the highest resignations"
   ]
  },
  {
   "cell_type": "code",
   "execution_count": 337,
   "metadata": {},
   "outputs": [
    {
     "data": {
      "image/png": "[encoded data removed]",
      "text/plain": [
       "<Figure size 432x288 with 1 Axes>"
      ]
     },
     "metadata": {
      "needs_background": "light"
     },
     "output_type": "display_data"
    }
   ],
   "source": [
    "distance_attrition = plot(attrition,'DistanceFromHome(km)','Resigned')"
   ]
  },
  {
   "cell_type": "markdown",
   "metadata": {},
   "source": [
    "The staff that stay closest to the office resigned the most"
   ]
  },
  {
   "cell_type": "code",
   "execution_count": 338,
   "metadata": {},
   "outputs": [
    {
     "data": {
      "image/png": "[encoded data removed]",
      "text/plain": [
       "<Figure size 432x288 with 1 Axes>"
      ]
     },
     "metadata": {
      "needs_background": "light"
     },
     "output_type": "display_data"
    }
   ],
   "source": [
    "job_involvement_attrition = plot(attrition,'JobInvolvement','Resigned')"
   ]
  },
  {
   "cell_type": "markdown",
   "metadata": {},
   "source": [
    "Job involvement directly affects attrition of staffs"
   ]
  },
  {
   "cell_type": "code",
   "execution_count": 339,
   "metadata": {},
   "outputs": [
    {
     "data": {
      "image/png": "[encoded data removed]",
      "text/plain": [
       "<Figure size 432x288 with 1 Axes>"
      ]
     },
     "metadata": {
      "needs_background": "light"
     },
     "output_type": "display_data"
    }
   ],
   "source": [
    "job_satisfaction_attrition = plot(attrition,'JobSatisfaction','Resigned')"
   ]
  },
  {
   "cell_type": "markdown",
   "metadata": {},
   "source": [
    "Job satisfaction does not have a direct effect on the resignation of staffs"
   ]
  },
  {
   "cell_type": "markdown",
   "metadata": {},
   "source": [
    "### Convert Categorical Variables to Numerical Variables"
   ]
  },
  {
   "cell_type": "code",
   "execution_count": 340,
   "metadata": {},
   "outputs": [],
   "source": [
    "#import the library\n",
    "from sklearn.preprocessing import LabelEncoder"
   ]
  },
  {
   "cell_type": "code",
   "execution_count": 341,
   "metadata": {},
   "outputs": [],
   "source": [
    "#create an instance\n",
    "label_encoder = LabelEncoder()"
   ]
  },
  {
   "cell_type": "code",
   "execution_count": 342,
   "metadata": {},
   "outputs": [],
   "source": [
    "# attrition['Resigned'] = label_encoder.fit_transform(attrition['Resigned'])\n",
    "attrition['BusinessTravel'] = label_encoder.fit_transform(attrition['BusinessTravel'])\n",
    "attrition['Department'] = label_encoder.fit_transform(attrition['Department'])\n",
    "attrition['EducationField'] = label_encoder.fit_transform(attrition['EducationField'])\n",
    "attrition['Gender'] = label_encoder.fit_transform(attrition['Gender'])\n",
    "attrition['JobRole'] = label_encoder.fit_transform(attrition['JobRole'])\n",
    "attrition['MaritalStatus'] = label_encoder.fit_transform(attrition['MaritalStatus'])\n",
    "attrition['Over18'] = label_encoder.fit_transform(attrition['Over18'])\n",
    "attrition['OverTime'] = label_encoder.fit_transform(attrition['OverTime'])\n",
    "attrition['StandardHours'] = label_encoder.fit_transform(attrition['StandardHours'])"
   ]
  },
  {
   "cell_type": "markdown",
   "metadata": {},
   "source": [
    "We had to use Label encoder to transform non-numerical labels to numerical labels"
   ]
  },
  {
   "cell_type": "code",
   "execution_count": 343,
   "metadata": {},
   "outputs": [
    {
     "name": "stdout",
     "output_type": "stream",
     "text": [
      "<class 'pandas.core.frame.DataFrame'>\n",
      "RangeIndex: 1470 entries, 0 to 1469\n",
      "Data columns (total 33 columns):\n",
      " #   Column                    Non-Null Count  Dtype   \n",
      "---  ------                    --------------  -----   \n",
      " 0   Age                       1470 non-null   int64   \n",
      " 1   Resigned                  1470 non-null   category\n",
      " 2   BusinessTravel            1470 non-null   int32   \n",
      " 3   DailyRate($)              1470 non-null   int64   \n",
      " 4   Department                1470 non-null   int32   \n",
      " 5   DistanceFromHome(km)      1470 non-null   int64   \n",
      " 6   EducationField            1470 non-null   int32   \n",
      " 7   EmployeeNumber            1470 non-null   int64   \n",
      " 8   EnvironmentSatisfaction   1470 non-null   int64   \n",
      " 9   Gender                    1470 non-null   int32   \n",
      " 10  HourlyRate                1470 non-null   int64   \n",
      " 11  JobInvolvement            1470 non-null   int64   \n",
      " 12  JobLevel                  1470 non-null   int64   \n",
      " 13  JobRole                   1470 non-null   int32   \n",
      " 14  JobSatisfaction           1470 non-null   int64   \n",
      " 15  MaritalStatus             1470 non-null   int32   \n",
      " 16  MonthlyIncome($)          1470 non-null   int64   \n",
      " 17  MonthlyRate($)            1470 non-null   int64   \n",
      " 18  NumCompaniesWorked        1470 non-null   int64   \n",
      " 19  Over18                    1470 non-null   int32   \n",
      " 20  OverTime                  1470 non-null   int32   \n",
      " 21  PercentSalaryHike         1470 non-null   int64   \n",
      " 22  PerformanceRating         1470 non-null   int64   \n",
      " 23  RelationshipSatisfaction  1470 non-null   int64   \n",
      " 24  StandardHours             1470 non-null   int64   \n",
      " 25  StockOptionLevel          1470 non-null   int64   \n",
      " 26  TotalWorkingYears         1470 non-null   int64   \n",
      " 27  TrainingTimesLastYear     1470 non-null   int64   \n",
      " 28  WorkLifeBalance           1470 non-null   int64   \n",
      " 29  YearsAtCompany            1470 non-null   int64   \n",
      " 30  YearsInCurrentRole        1470 non-null   int64   \n",
      " 31  YearsSinceLastPromotion   1470 non-null   int64   \n",
      " 32  YearsWithCurrManager      1470 non-null   int64   \n",
      "dtypes: category(1), int32(8), int64(24)\n",
      "memory usage: 323.2 KB\n"
     ]
    }
   ],
   "source": [
    "#checking\n",
    "attrition.info()"
   ]
  },
  {
   "cell_type": "markdown",
   "metadata": {},
   "source": [
    "## Modelling"
   ]
  },
  {
   "cell_type": "code",
   "execution_count": 344,
   "metadata": {},
   "outputs": [
    {
     "data": {
      "text/plain": [
       "0    1\n",
       "1    0\n",
       "2    1\n",
       "Name: Resigned, dtype: category\n",
       "Categories (2, int64): [0, 1]"
      ]
     },
     "execution_count": 344,
     "metadata": {},
     "output_type": "execute_result"
    }
   ],
   "source": [
    "# Define a dictionary for the target mapping\n",
    "target_map = {'Yes':1, 'No':0}\n",
    "# Use the pandas apply method to numerically encode our attrition target variable\n",
    "target = attrition[\"Resigned\"].apply(lambda x: target_map[x])\n",
    "target.head(3)"
   ]
  },
  {
   "cell_type": "code",
   "execution_count": 345,
   "metadata": {},
   "outputs": [],
   "source": [
    "attrition['Resigned'] = label_encoder.fit_transform(attrition['Resigned'])"
   ]
  },
  {
   "cell_type": "code",
   "execution_count": 346,
   "metadata": {},
   "outputs": [],
   "source": [
    "#load  the libraries\n",
    "from sklearn.model_selection import train_test_split\n",
    "from sklearn.preprocessing import MinMaxScaler\n",
    "from sklearn.ensemble import RandomForestClassifier, GradientBoostingClassifier\n",
    "from sklearn.metrics import (accuracy_score, log_loss, classification_report,confusion_matrix)\n",
    "from imblearn.over_sampling import SMOTE\n",
    "from collections import Counter\n",
    "from matplotlib import pyplot\n"
   ]
  },
  {
   "cell_type": "markdown",
   "metadata": {},
   "source": [
    "Inspecting the target variable"
   ]
  },
  {
   "cell_type": "code",
   "execution_count": 347,
   "metadata": {},
   "outputs": [
    {
     "data": {
      "text/plain": [
       "0    1233\n",
       "1     237\n",
       "Name: Resigned, dtype: int64"
      ]
     },
     "execution_count": 347,
     "metadata": {},
     "output_type": "execute_result"
    }
   ],
   "source": [
    "target.value_counts()"
   ]
  },
  {
   "cell_type": "code",
   "execution_count": 348,
   "metadata": {},
   "outputs": [
    {
     "name": "stdout",
     "output_type": "stream",
     "text": [
      "Class=1, n=237 (16.122%)\n",
      "Class=0, n=1233 (83.878%)\n"
     ]
    },
    {
     "data": {
      "image/png": "[encoded data removed]",
      "text/plain": [
       "<Figure size 432x288 with 1 Axes>"
      ]
     },
     "metadata": {
      "needs_background": "light"
     },
     "output_type": "display_data"
    }
   ],
   "source": [
    "counter = Counter(target)\n",
    "for k,v in counter.items():\n",
    "    per = v / len(target) * 100\n",
    "    print('Class=%d, n=%d (%.3f%%)' % (k, v, per))\n",
    "# plot the distribution\n",
    "pyplot.bar(counter.keys(), counter.values())\n",
    "pyplot.show()"
   ]
  },
  {
   "cell_type": "markdown",
   "metadata": {},
   "source": [
    "just by a quick inspection of the counts of the number of 'Yes' and 'No' in the target variable tells us that there is quite a large skew in target as shown in the figure"
   ]
  },
  {
   "cell_type": "markdown",
   "metadata": {},
   "source": [
    "Now let us try and oversample the target class"
   ]
  },
  {
   "cell_type": "code",
   "execution_count": 349,
   "metadata": {},
   "outputs": [
    {
     "name": "stdout",
     "output_type": "stream",
     "text": [
      "Class=1, n=237 (16.122%)\n",
      "Class=0, n=1233 (83.878%)\n"
     ]
    },
    {
     "data": {
      "image/png": "[encoded data removed]",
      "text/plain": [
       "<Figure size 432x288 with 1 Axes>"
      ]
     },
     "metadata": {
      "needs_background": "light"
     },
     "output_type": "display_data"
    }
   ],
   "source": [
    "X =attrition.drop('Resigned',axis=1).values\n",
    "y =  attrition['Resigned'].values\n",
    "\n",
    "counter = Counter(y)\n",
    "for k,v in counter.items():\n",
    "    per = v / len(y) * 100\n",
    "    print('Class=%d, n=%d (%.3f%%)' % (k, v, per))\n",
    "# plot the distribution\n",
    "pyplot.bar(counter.keys(), counter.values())\n",
    "pyplot.show()\n",
    "\n"
   ]
  },
  {
   "cell_type": "code",
   "execution_count": 350,
   "metadata": {},
   "outputs": [
    {
     "name": "stdout",
     "output_type": "stream",
     "text": [
      "Class=1, n=1233 (50.000%)\n",
      "Class=0, n=1233 (50.000%)\n"
     ]
    },
    {
     "data": {
      "image/png": "[encoded data removed]",
      "text/plain": [
       "<Figure size 432x288 with 1 Axes>"
      ]
     },
     "metadata": {
      "needs_background": "light"
     },
     "output_type": "display_data"
    }
   ],
   "source": [
    "# transform the dataset\n",
    "oversample = SMOTE()\n",
    "X, y = oversample.fit_resample(X, y)\n",
    "# summarize distribution\n",
    "counter = Counter(y)\n",
    "for k,v in counter.items():\n",
    "    per = v / len(y) * 100\n",
    "    print('Class=%d, n=%d (%.3f%%)' % (k, v, per))\n",
    "# plot the distribution\n",
    "pyplot.bar(counter.keys(), counter.values())\n",
    "pyplot.show()"
   ]
  },
  {
   "cell_type": "markdown",
   "metadata": {},
   "source": [
    "Now we have oversampled the minority class to solve the problem of imbalance"
   ]
  },
  {
   "cell_type": "markdown",
   "metadata": {},
   "source": [
    "Now, lets build our model"
   ]
  },
  {
   "cell_type": "code",
   "execution_count": 351,
   "metadata": {},
   "outputs": [],
   "source": [
    "#create a function that will split the data into training and test sets, and normalize the data\n",
    "def get_data(target):\n",
    "\n",
    "#get the features and the target\n",
    "    features = attrition.drop(target,axis=1).values\n",
    "    label = attrition[target].values\n",
    "#split the data\n",
    "    x_train,x_test,y_train,y_test = train_test_split(features,label,test_size=0.2,random_state=0)\n",
    "#normalize the data\n",
    "    scaler=MinMaxScaler()\n",
    "    x_train_scaler= scaler.fit_transform(x_train)\n",
    "    x_test_scaler = scaler.transform(x_test)\n",
    "\n",
    "    return x_train_scaler,x_test_scaler,y_train,y_test\n",
    "\n"
   ]
  },
  {
   "cell_type": "code",
   "execution_count": 352,
   "metadata": {},
   "outputs": [],
   "source": [
    "#calling the function\n",
    "x_train_scaler,x_test_scaler,y_train,y_test = get_data('Resigned')"
   ]
  },
  {
   "cell_type": "code",
   "execution_count": 353,
   "metadata": {},
   "outputs": [
    {
     "data": {
      "text/plain": [
       "((1176, 32), (294, 32), (1176,), (294,))"
      ]
     },
     "execution_count": 353,
     "metadata": {},
     "output_type": "execute_result"
    }
   ],
   "source": [
    "#check the shape of the data\n",
    "x_train_scaler.shape,x_test_scaler.shape,y_train.shape,y_test.shape"
   ]
  },
  {
   "cell_type": "code",
   "execution_count": 354,
   "metadata": {},
   "outputs": [],
   "source": [
    "#function to model the data\n",
    "def modelling(model_name):\n",
    "#create an instance of the model    \n",
    "    model = model_name\n",
    "#train the model\n",
    "    model.fit(x_train_scaler,y_train)\n",
    "#get the training and testing accuracy \n",
    "    train_acc = model.score(x_train_scaler,y_train)\n",
    "    test_acc = model.score(x_test_scaler,y_test)\n",
    "#return the training and testing accuracy    \n",
    "    return train_acc,test_acc"
   ]
  },
  {
   "cell_type": "markdown",
   "metadata": {},
   "source": [
    "## Random Forest Classifier"
   ]
  },
  {
   "cell_type": "code",
   "execution_count": 355,
   "metadata": {},
   "outputs": [],
   "source": [
    "\n",
    "#calling the function to model the data\n",
    "train_acc,test_acc = modelling(RandomForestClassifier())"
   ]
  },
  {
   "cell_type": "code",
   "execution_count": 356,
   "metadata": {},
   "outputs": [
    {
     "name": "stdout",
     "output_type": "stream",
     "text": [
      "Train Accuracy:1.000\n",
      "Test Accuracy:0.840\n"
     ]
    }
   ],
   "source": [
    "#print the accuracies\n",
    "print(\"Train Accuracy:{:.3f}\".format(train_acc))\n",
    "print(\"Test Accuracy:{:.3f}\".format(test_acc))"
   ]
  },
  {
   "cell_type": "markdown",
   "metadata": {},
   "source": [
    "The random foret model overfits, in other words the training accuracy is more than the test accuracy. We would have to perform hyperparameter tuning to improve the performance"
   ]
  },
  {
   "cell_type": "code",
   "execution_count": 357,
   "metadata": {},
   "outputs": [],
   "source": [
    "train_acc,test_acc = modelling(RandomForestClassifier(  n_jobs= -1,n_estimators = 1000, max_features = 0.3, max_depth = 3, min_samples_leaf = 2, random_state = 0, verbose = 0))"
   ]
  },
  {
   "cell_type": "code",
   "execution_count": 358,
   "metadata": {},
   "outputs": [
    {
     "name": "stdout",
     "output_type": "stream",
     "text": [
      "Train Accuracy:0.858\n",
      "Test Accuracy:0.844\n"
     ]
    }
   ],
   "source": [
    "#print the accuracies\n",
    "print(\"Train Accuracy:{:.3f}\".format(train_acc))\n",
    "print(\"Test Accuracy:{:.3f}\".format(test_acc))"
   ]
  },
  {
   "cell_type": "markdown",
   "metadata": {},
   "source": [
    "After tuning the model with a maximum depth of 3, number of estimators of 1000 ansd also setting a random state for reproducibility, the model performed better, even though it still slightly overfits"
   ]
  },
  {
   "cell_type": "markdown",
   "metadata": {},
   "source": [
    "We would have to use other metrics to judge the performance of the model"
   ]
  },
  {
   "cell_type": "markdown",
   "metadata": {},
   "source": [
    "### Model Prediction"
   ]
  },
  {
   "cell_type": "code",
   "execution_count": 359,
   "metadata": {},
   "outputs": [],
   "source": [
    "#fucntion for model prediction \n",
    "def model_predict(model):\n",
    "    Y_pred = model.predict(x_test_scaler)\n",
    "    return Y_pred"
   ]
  },
  {
   "cell_type": "code",
   "execution_count": 367,
   "metadata": {},
   "outputs": [],
   "source": [
    "# #create an instance of the model\n",
    "rf= RandomForestClassifier(  n_jobs= -1,n_estimators = 1000, max_features = 0.3, max_depth = 3, min_samples_leaf = 2, random_state = 0, verbose = 0)\n",
    "# #fit the model\n",
    "rf.fit(x_train_scaler,y_train)\n",
    "\n",
    "#make predictions on the test data\n",
    "rf_pred = model_predict(rf)"
   ]
  },
  {
   "cell_type": "code",
   "execution_count": 368,
   "metadata": {},
   "outputs": [
    {
     "data": {
      "text/plain": [
       "array([0, 0, 0, 0, 1, 0, 0, 0, 0, 0, 0, 0, 0, 0, 0, 0, 0, 0, 0, 0, 0, 0,\n",
       "       0, 0, 0, 0, 0, 0, 0, 0, 0, 0, 0, 0, 0, 0, 0, 0, 0, 0, 0, 0, 0, 0,\n",
       "       0, 0, 0, 0, 1, 0, 0, 0, 0, 0, 0, 0, 0, 0, 0, 0, 0, 0, 0, 0, 0, 0,\n",
       "       0, 0, 0, 0, 0, 0, 0, 0, 0, 0, 0, 0, 0, 0, 0, 0, 0, 0, 0, 0, 0, 0,\n",
       "       0, 0, 0, 0, 0, 0, 0, 0, 0, 0, 0, 0, 0, 0, 0, 0, 0, 0, 0, 0, 0, 0,\n",
       "       0, 0, 0, 0, 0, 0, 0, 0, 0, 0, 0, 0, 0, 0, 0, 0, 0, 0, 0, 0, 0, 0,\n",
       "       0, 0, 0, 0, 0, 0, 0, 0, 0, 0, 0, 0, 0, 0, 0, 0, 0, 0, 0, 0, 0, 0,\n",
       "       0, 0, 0, 0, 0, 0, 0, 0, 0, 0, 0, 0, 0, 0, 0, 0, 0, 0, 0, 0, 0, 0,\n",
       "       0, 0, 0, 0, 0, 0, 0, 0, 0, 0, 0, 0, 0, 0, 0, 1, 0, 0, 0, 0, 0, 0,\n",
       "       0, 0, 0, 0, 0, 0, 0, 0, 0, 0, 0, 0, 0, 0, 0, 0, 0, 0, 0, 0, 0, 0,\n",
       "       0, 0, 0, 0, 0, 0, 0, 0, 0, 0, 0, 0, 0, 0, 0, 0, 0, 0, 0, 0, 0, 0,\n",
       "       0, 0, 0, 0, 0, 0, 0, 0, 0, 0, 0, 0, 0, 0, 0, 0, 0, 0, 0, 0, 0, 0,\n",
       "       0, 0, 0, 0, 0, 0, 0, 0, 0, 0, 0, 0, 0, 0, 0, 0, 0, 0, 0, 0, 0, 0,\n",
       "       0, 0, 0, 0, 0, 0, 0, 0])"
      ]
     },
     "execution_count": 368,
     "metadata": {},
     "output_type": "execute_result"
    }
   ],
   "source": [
    "rf_pred"
   ]
  },
  {
   "cell_type": "markdown",
   "metadata": {},
   "source": [
    "### Performance Metrics for Random Forest Classifier"
   ]
  },
  {
   "cell_type": "code",
   "execution_count": 369,
   "metadata": {},
   "outputs": [
    {
     "name": "stdout",
     "output_type": "stream",
     "text": [
      "Confusion Matrix: \n",
      " [[245   0]\n",
      " [ 46   3]]\n",
      "              precision    recall  f1-score   support\n",
      "\n",
      "           0       0.84      1.00      0.91       245\n",
      "           1       1.00      0.06      0.12        49\n",
      "\n",
      "    accuracy                           0.84       294\n",
      "   macro avg       0.92      0.53      0.51       294\n",
      "weighted avg       0.87      0.84      0.78       294\n",
      "\n",
      "Random Forest Accuracy:  0.8435374149659864\n"
     ]
    }
   ],
   "source": [
    "print('Confusion Matrix: \\n',confusion_matrix(y_test,rf_pred))\n",
    "print(classification_report(y_test,rf_pred))\n",
    "print('Random Forest Accuracy: ', accuracy_score(y_test, rf_pred))"
   ]
  },
  {
   "cell_type": "markdown",
   "metadata": {},
   "source": [
    "Our model had a very high precision of 100% but the other metrics perfromed poorly"
   ]
  },
  {
   "cell_type": "markdown",
   "metadata": {},
   "source": [
    "Recall - out of all the employees that resigned, the model predicted just 6% as having resign\n",
    "\n",
    "Precision - out of all the employees that were predicted as having resigned ,the model correctly predicted 100%\n",
    "\n",
    "True Positive - This implies that 245 customers resigned and the model correctly predicts that they resigned \n",
    "\n",
    "True Negative - 3 employees resigned and the model wrongly predicts that the employees resigned\n",
    "\n",
    "False Positive -  the model wrongly predicts that 0 employees did not resign\n",
    "\n",
    "False Negative - 46 customers resigned but the model incorrectly predicts that the customer did not resign"
   ]
  },
  {
   "cell_type": "markdown",
   "metadata": {},
   "source": [
    "Let us examine the features and rank them in order of importance"
   ]
  },
  {
   "cell_type": "markdown",
   "metadata": {},
   "source": [
    "## Feature Importance"
   ]
  },
  {
   "cell_type": "code",
   "execution_count": 370,
   "metadata": {},
   "outputs": [
    {
     "data": {
      "image/png": "[encoded data removed]",
      "text/plain": [
       "<Figure size 1080x576 with 1 Axes>"
      ]
     },
     "metadata": {
      "needs_background": "light"
     },
     "output_type": "display_data"
    }
   ],
   "source": [
    "plt.figure(figsize=(15,8))\n",
    "plt.plot(rf.feature_importances_,linestyle='dashdot', linewidth='1', color='red')\n",
    "plt.xticks(range(attrition.shape[1]),attrition,rotation=60)\n",
    "plt.title(\"Plot of Random Forest Feature Importances\")\n",
    "plt.show()"
   ]
  },
  {
   "cell_type": "markdown",
   "metadata": {},
   "source": [
    "From the feature importance it shows that our most important feature is the Number of Companies Worked, then followed by Job satisfaction, standard hours, Training times last year and Hourly rate"
   ]
  },
  {
   "cell_type": "markdown",
   "metadata": {},
   "source": [
    "Now let us build another ensemble model, to compare with the random forest model"
   ]
  },
  {
   "cell_type": "markdown",
   "metadata": {},
   "source": [
    "## Gradient Boosting Model"
   ]
  },
  {
   "cell_type": "code",
   "execution_count": 371,
   "metadata": {},
   "outputs": [],
   "source": [
    "#create a function that will split the data into training and test set\n",
    "def get_data1(target):\n",
    "\n",
    "#get the features and the target\n",
    "    features = attrition.drop(target,axis=1).values\n",
    "    label = attrition[target].values\n",
    "#split the data\n",
    "    x_train,x_test,y_train,y_test = train_test_split(features,label,test_size=0.2,random_state=0)\n",
    "\n",
    "\n",
    "    return x_train,x_test,y_train,y_test"
   ]
  },
  {
   "cell_type": "code",
   "execution_count": 372,
   "metadata": {},
   "outputs": [],
   "source": [
    "#call the function\n",
    "x_train,x_test,y_train,y_test = get_data1('Resigned')"
   ]
  },
  {
   "cell_type": "code",
   "execution_count": 373,
   "metadata": {},
   "outputs": [],
   "source": [
    "#function to model the data\n",
    "def modelling1(model_name):\n",
    "#create an instance of the model    \n",
    "    model = model_name\n",
    "#train the model\n",
    "    model.fit(x_train,y_train)\n",
    "#get the training and testing accuracy \n",
    "    train_acc = model.score(x_train,y_train)\n",
    "    test_acc = model.score(x_test,y_test)\n",
    "#return the training and testing accuracy    \n",
    "    return train_acc,test_acc"
   ]
  },
  {
   "cell_type": "code",
   "execution_count": 374,
   "metadata": {},
   "outputs": [],
   "source": [
    "train_acc,test_acc = modelling1(GradientBoostingClassifier())"
   ]
  },
  {
   "cell_type": "code",
   "execution_count": 375,
   "metadata": {},
   "outputs": [
    {
     "data": {
      "text/plain": [
       "(0.9540816326530612, 0.8503401360544217)"
      ]
     },
     "execution_count": 375,
     "metadata": {},
     "output_type": "execute_result"
    }
   ],
   "source": [
    "#getting the accuracies\n",
    "train_acc,test_acc"
   ]
  },
  {
   "cell_type": "markdown",
   "metadata": {},
   "source": [
    "The Gradient boosting model also overfits like the random forest, so we would tune for better performance"
   ]
  },
  {
   "cell_type": "code",
   "execution_count": 376,
   "metadata": {},
   "outputs": [],
   "source": [
    "train_acc,test_acc = modelling(GradientBoostingClassifier( n_estimators= 1500, max_features = 0.9, max_depth = 4, min_samples_leaf = 2, random_state = 0, verbose = 0))"
   ]
  },
  {
   "cell_type": "code",
   "execution_count": 377,
   "metadata": {},
   "outputs": [
    {
     "data": {
      "text/plain": [
       "(1.0, 0.8469387755102041)"
      ]
     },
     "execution_count": 377,
     "metadata": {},
     "output_type": "execute_result"
    }
   ],
   "source": [
    "train_acc,test_acc"
   ]
  },
  {
   "cell_type": "markdown",
   "metadata": {},
   "source": [
    "After tuning the model with a maximum depth of 4, number of estimators of 1500 ansd also setting a random state for reproducibility, the model performed better, even though it still slightly overfits"
   ]
  },
  {
   "cell_type": "markdown",
   "metadata": {},
   "source": [
    "Now let us look at other metrics for evaluation"
   ]
  },
  {
   "cell_type": "code",
   "execution_count": 378,
   "metadata": {},
   "outputs": [],
   "source": [
    "#fucntion for model prediction \n",
    "def model_predict(model):\n",
    "    Y_pred = model.predict(x_test)\n",
    "    return Y_pred"
   ]
  },
  {
   "cell_type": "code",
   "execution_count": 379,
   "metadata": {},
   "outputs": [],
   "source": [
    "#create an instance of the model\n",
    "gb = GradientBoostingClassifier(n_estimators= 1500, max_features = 0.9, max_depth = 4, min_samples_leaf = 2, random_state = 0, verbose = 0)\n",
    "# #fit the model\n",
    "gb.fit(x_train,y_train)\n",
    "\n",
    "# #make predictions on the test data by calling the model-predict function\n",
    "gb_pred = model_predict(gb)"
   ]
  },
  {
   "cell_type": "code",
   "execution_count": 380,
   "metadata": {},
   "outputs": [
    {
     "data": {
      "text/plain": [
       "array([0, 0, 0, 0, 1, 0, 1, 0, 0, 0, 0, 0, 0, 1, 0, 0, 0, 0, 0, 0, 0, 0,\n",
       "       0, 0, 1, 1, 0, 0, 1, 0, 0, 0, 1, 0, 0, 0, 0, 0, 0, 0, 0, 0, 0, 0,\n",
       "       0, 0, 0, 0, 1, 1, 0, 0, 0, 0, 0, 0, 0, 0, 0, 0, 0, 0, 0, 0, 0, 0,\n",
       "       0, 0, 0, 0, 0, 1, 0, 0, 0, 0, 0, 0, 0, 0, 0, 0, 0, 0, 0, 0, 0, 0,\n",
       "       0, 0, 1, 0, 0, 0, 0, 0, 0, 1, 0, 0, 0, 1, 1, 0, 0, 0, 0, 0, 0, 0,\n",
       "       0, 0, 0, 0, 0, 0, 0, 0, 0, 0, 0, 0, 0, 1, 0, 0, 0, 0, 0, 0, 0, 1,\n",
       "       0, 0, 0, 0, 1, 0, 0, 0, 0, 0, 0, 0, 0, 0, 0, 0, 0, 0, 0, 0, 0, 0,\n",
       "       0, 0, 0, 0, 0, 0, 0, 0, 0, 1, 0, 0, 0, 0, 0, 0, 0, 0, 0, 0, 0, 0,\n",
       "       0, 0, 0, 0, 0, 0, 0, 1, 0, 0, 0, 0, 0, 0, 0, 1, 0, 0, 0, 0, 0, 0,\n",
       "       0, 0, 0, 0, 0, 0, 0, 0, 1, 0, 0, 0, 0, 0, 0, 0, 0, 0, 0, 0, 0, 1,\n",
       "       0, 0, 0, 1, 0, 0, 0, 1, 1, 0, 0, 0, 0, 0, 0, 0, 0, 0, 0, 0, 0, 0,\n",
       "       0, 0, 0, 0, 0, 0, 0, 0, 0, 0, 0, 0, 0, 0, 0, 1, 0, 1, 0, 0, 0, 0,\n",
       "       0, 0, 0, 0, 0, 0, 0, 0, 0, 0, 0, 0, 0, 1, 0, 0, 1, 0, 0, 0, 0, 0,\n",
       "       0, 0, 0, 0, 0, 1, 0, 0])"
      ]
     },
     "execution_count": 380,
     "metadata": {},
     "output_type": "execute_result"
    }
   ],
   "source": [
    "gb_pred"
   ]
  },
  {
   "cell_type": "markdown",
   "metadata": {},
   "source": [
    "### Performance Metrics for Gradient Boosting Model"
   ]
  },
  {
   "cell_type": "code",
   "execution_count": 381,
   "metadata": {},
   "outputs": [
    {
     "name": "stdout",
     "output_type": "stream",
     "text": [
      "Confusion Matrix: \n",
      " [[232  13]\n",
      " [ 32  17]]\n",
      "              precision    recall  f1-score   support\n",
      "\n",
      "           0       0.88      0.95      0.91       245\n",
      "           1       0.57      0.35      0.43        49\n",
      "\n",
      "    accuracy                           0.85       294\n",
      "   macro avg       0.72      0.65      0.67       294\n",
      "weighted avg       0.83      0.85      0.83       294\n",
      "\n",
      "Gradient Boosting Accuracy:  0.8469387755102041\n"
     ]
    }
   ],
   "source": [
    "print('Confusion Matrix: \\n',confusion_matrix(y_test,gb_pred))\n",
    "print(classification_report(y_test,gb_pred))\n",
    "print('Gradient Boosting Accuracy: ', accuracy_score(y_test, gb_pred))"
   ]
  },
  {
   "cell_type": "markdown",
   "metadata": {},
   "source": [
    "Recall - out of all the employees that resigned, the model predicted 35% as having resign\n",
    "\n",
    "Precision - out of all the employees that were predicted as having resigned ,the model correctly predicted 57%\n",
    "\n",
    "True Positive - This implies that 232 customers resigned and the model correctly predicts that they resigned \n",
    "\n",
    "True Negative - 17 employees resigned and the model wrongly predicts that the employees resigned\n",
    "\n",
    "False Positive -  the model wrongly predicts that 13 employees did not resign\n",
    "\n",
    "False Negative - 32 customers resigned but the model incorrectly predicts that the customer did not resign"
   ]
  },
  {
   "cell_type": "markdown",
   "metadata": {},
   "source": [
    "## Feature Importance"
   ]
  },
  {
   "cell_type": "code",
   "execution_count": 382,
   "metadata": {},
   "outputs": [
    {
     "data": {
      "image/png": "[encoded data removed]",
      "text/plain": [
       "<Figure size 1080x576 with 1 Axes>"
      ]
     },
     "metadata": {
      "needs_background": "light"
     },
     "output_type": "display_data"
    }
   ],
   "source": [
    "plt.figure(figsize=(15,8))\n",
    "plt.plot(gb.feature_importances_,linestyle='dashdot', linewidth='1', color='red')\n",
    "plt.xticks(range(attrition.shape[1]),attrition,rotation=60)\n",
    "plt.title(\"Plot of Gradient Boosting Feature Importances\")\n",
    "plt.show()"
   ]
  },
  {
   "cell_type": "markdown",
   "metadata": {},
   "source": [
    "From the feature importance it shows that our most important feature is the Job satisfaction, then followed by Number of Companies Worked, standard hours, Business Travel, and Distance from home"
   ]
  },
  {
   "cell_type": "markdown",
   "metadata": {},
   "source": [
    "## Model Comparison"
   ]
  },
  {
   "cell_type": "markdown",
   "metadata": {},
   "source": [
    "Here we compare the two models using accuracy,precision,recall,f1-score and confusion matrix score"
   ]
  },
  {
   "cell_type": "code",
   "execution_count": 384,
   "metadata": {},
   "outputs": [
    {
     "data": {
      "text/html": [
       "<div>\n",
       "<style scoped>\n",
       "    .dataframe tbody tr th:only-of-type {\n",
       "        vertical-align: middle;\n",
       "    }\n",
       "\n",
       "    .dataframe tbody tr th {\n",
       "        vertical-align: top;\n",
       "    }\n",
       "\n",
       "    .dataframe thead th {\n",
       "        text-align: right;\n",
       "    }\n",
       "</style>\n",
       "<table border=\"1\" class=\"dataframe\">\n",
       "  <thead>\n",
       "    <tr style=\"text-align: right;\">\n",
       "      <th></th>\n",
       "      <th>Models</th>\n",
       "      <th>Test Accuracy</th>\n",
       "      <th>Precision</th>\n",
       "      <th>Recall</th>\n",
       "      <th>F1-score</th>\n",
       "      <th>True Positive</th>\n",
       "      <th>True Negative</th>\n",
       "      <th>False Positive</th>\n",
       "      <th>False Negative</th>\n",
       "    </tr>\n",
       "  </thead>\n",
       "  <tbody>\n",
       "    <tr>\n",
       "      <th>0</th>\n",
       "      <td>Random Forest</td>\n",
       "      <td>84</td>\n",
       "      <td>100</td>\n",
       "      <td>6</td>\n",
       "      <td>12</td>\n",
       "      <td>245</td>\n",
       "      <td>3</td>\n",
       "      <td>0</td>\n",
       "      <td>46</td>\n",
       "    </tr>\n",
       "    <tr>\n",
       "      <th>1</th>\n",
       "      <td>Gradient Boost</td>\n",
       "      <td>85</td>\n",
       "      <td>57</td>\n",
       "      <td>35</td>\n",
       "      <td>43</td>\n",
       "      <td>232</td>\n",
       "      <td>17</td>\n",
       "      <td>13</td>\n",
       "      <td>32</td>\n",
       "    </tr>\n",
       "  </tbody>\n",
       "</table>\n",
       "</div>"
      ],
      "text/plain": [
       "           Models  Test Accuracy  Precision  Recall  F1-score  True Positive  \\\n",
       "0   Random Forest             84        100       6        12            245   \n",
       "1  Gradient Boost             85         57      35        43            232   \n",
       "\n",
       "   True Negative  False Positive  False Negative  \n",
       "0              3               0              46  \n",
       "1             17              13              32  "
      ]
     },
     "execution_count": 384,
     "metadata": {},
     "output_type": "execute_result"
    }
   ],
   "source": [
    "df = {'Models': [\"Random Forest\", \"Gradient Boost\"],\n",
    "        \"Test Accuracy\": [84, 85],\n",
    "        \"Precision\": [100, 57],\n",
    "        \"Recall\": [6, 35],\n",
    "        \"F1-score\": [12, 43],\n",
    "        \"True Positive\": [245, 232],\n",
    "        \"True Negative\":[3, 17],\n",
    "        \"False Positive\":[0, 13],\n",
    "        \"False Negative\":[46, 32]}\n",
    "model_comparison = pd.DataFrame(data = df)\n",
    "\n",
    "# display the table of performance comparison\n",
    "model_comparison"
   ]
  },
  {
   "cell_type": "markdown",
   "metadata": {},
   "source": [
    "## Conclusion"
   ]
  },
  {
   "cell_type": "markdown",
   "metadata": {},
   "source": [
    "We have built a predictive model to predict employee attrition, from some basic Exploratory Data Analysis to feature engineering as well as implementing two tree based models in the form of a Random Forest and a Gradient Boosting classifier. \n",
    "The models were built with a balanced data. Also based on the F1-Scores and Recall of the models, the Gradient Boost model performed better than Random Forest model with an F1-score of 43% and Recall of 35%, although the Random Forest model had a better precision score of 100%. In terms of accuracy, Random Forest had the best generalised model. \n",
    "We also did some analysis and used feature importance to determine the most import reason for employee attrition.\n",
    "Based on the analysis and some machine learning, we can conclude that Job satisfaction and Number of companies worked are the main reasons for attrition, and we can also predict which employees leave the company and then methodologies can be developed to retain employees."
   ]
  },
  {
   "cell_type": "markdown",
   "metadata": {},
   "source": []
  }
 ],
 "metadata": {
  "interpreter": {
   "hash": "8fac594bfae6525c0c41b4041d2d72effa188cc8ead05f81b1fab2bb098927fb"
  },
  "kernelspec": {
   "display_name": "Python 3 (ipykernel)",
   "language": "python",
   "name": "python3"
  },
  "language_info": {
   "codemirror_mode": {
    "name": "ipython",
    "version": 3
   },
   "file_extension": ".py",
   "mimetype": "text/x-python",
   "name": "python",
   "nbconvert_exporter": "python",
   "pygments_lexer": "ipython3",
   "version": "3.9.7"
  }
 },
 "nbformat": 4,
 "nbformat_minor": 2
}
